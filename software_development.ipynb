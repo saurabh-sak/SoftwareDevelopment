{
 "cells": [
  {
   "cell_type": "markdown",
   "metadata": {},
   "source": [
    "# Software Development"
   ]
  },
  {
   "cell_type": "markdown",
   "metadata": {},
   "source": [
    "## Put Reusable code in modules\n",
    "\n",
    "You might remember that we re-factored our decorator to use a generic cache. In the same spirit, we would like to refactor our code to use our `Vector` claa more generically.\n",
    "\n",
    "To be able to reuse our Vector class at multiple places, we put it into a file called `vector.py` with the following code"
   ]
  },
  {
   "cell_type": "markdown",
   "metadata": {},
   "source": [
    "```python\n",
    "import reprlib\n",
    "class Vector:\n",
    "    \n",
    "    def __init__(self, lst):\n",
    "        self._storage = lst\n",
    "        \n",
    "    def __len__(self):\n",
    "        return len(self._storage)\n",
    "    \n",
    "    def __getitem__(self, i):\n",
    "        return self._storage[i]\n",
    "\n",
    "    def __add__(self, other_vector):\n",
    "        try:\n",
    "            sumlist = []\n",
    "            for i, _ in enumerate(other_vector):\n",
    "                sumlist.append(self._storage[i] + other_vector[i])\n",
    "            return Vector(sumlist)\n",
    "        except TypeError:\n",
    "            return NotImplemented\n",
    "    \n",
    "    def __radd__(self, other_vector):\n",
    "        # turn other + self around\n",
    "        return self + other_vector\n",
    "    \n",
    "    def __mul__(self, scalar):\n",
    "        return Vector([item*scalar for item in self._storage])\n",
    "\n",
    "    def __rmul__(self, scalar):\n",
    "        return self*scalar\n",
    "\n",
    "    def __repr__(self):\n",
    "        components = reprlib.repr(self._storage)\n",
    "        return f\"Vector({components})\"\n",
    "```\n",
    "\n",
    "The `reprlib` module usage allows us to print a truncated representation of the list"
   ]
  },
  {
   "cell_type": "code",
   "execution_count": 1,
   "metadata": {},
   "outputs": [
    {
     "data": {
      "text/plain": [
       "Vector([1, 2, 3, 4, 5, 6, ...])"
      ]
     },
     "execution_count": 1,
     "metadata": {},
     "output_type": "execute_result"
    }
   ],
   "source": [
    "import vector\n",
    "v1 = vector.Vector([1, 2, 3, 4, 5, 6, 7, 8, 9, 10])\n",
    "v1"
   ]
  },
  {
   "cell_type": "code",
   "execution_count": 2,
   "metadata": {},
   "outputs": [
    {
     "data": {
      "text/plain": [
       "Vector([3, 1, 10])"
      ]
     },
     "execution_count": 2,
     "metadata": {},
     "output_type": "execute_result"
    }
   ],
   "source": [
    "v1 = vector.Vector([4, 2, 7])\n",
    "v1 + [-1, -1, 3]"
   ]
  },
  {
   "cell_type": "code",
   "execution_count": 3,
   "metadata": {},
   "outputs": [
    {
     "data": {
      "text/plain": [
       "Vector([3, 1, 10])"
      ]
     },
     "execution_count": 3,
     "metadata": {},
     "output_type": "execute_result"
    }
   ],
   "source": [
    "[-1, -1, 3] + v1"
   ]
  },
  {
   "cell_type": "code",
   "execution_count": 5,
   "metadata": {},
   "outputs": [
    {
     "ename": "TypeError",
     "evalue": "unsupported operand type(s) for +: 'Vector' and 'int'",
     "output_type": "error",
     "traceback": [
      "\u001b[0;31m---------------------------------------------------------------------------\u001b[0m",
      "\u001b[0;31mTypeError\u001b[0m                                 Traceback (most recent call last)",
      "\u001b[0;32m<ipython-input-5-366f3d52b499>\u001b[0m in \u001b[0;36m<module>\u001b[0;34m()\u001b[0m\n\u001b[0;32m----> 1\u001b[0;31m \u001b[0mv1\u001b[0m \u001b[0;34m+\u001b[0m \u001b[0;36m5\u001b[0m \u001b[0;31m# not yet working\u001b[0m\u001b[0;34m\u001b[0m\u001b[0;34m\u001b[0m\u001b[0m\n\u001b[0m",
      "\u001b[0;31mTypeError\u001b[0m: unsupported operand type(s) for +: 'Vector' and 'int'"
     ]
    }
   ],
   "source": [
    "v1 + 5 # not yet working"
   ]
  },
  {
   "cell_type": "code",
   "execution_count": 6,
   "metadata": {},
   "outputs": [
    {
     "data": {
      "text/plain": [
       "Vector([20, 10, 35])"
      ]
     },
     "execution_count": 6,
     "metadata": {},
     "output_type": "execute_result"
    }
   ],
   "source": [
    "5*v1"
   ]
  },
  {
   "cell_type": "code",
   "execution_count": 7,
   "metadata": {},
   "outputs": [
    {
     "data": {
      "text/plain": [
       "Vector([20, 10, 35])"
      ]
     },
     "execution_count": 7,
     "metadata": {},
     "output_type": "execute_result"
    }
   ],
   "source": [
    "v1*5"
   ]
  },
  {
   "cell_type": "markdown",
   "metadata": {},
   "source": [
    "## Document and and Test before programming more\n",
    "\n",
    "As we make code changes, we want to be sure that our code is not introducing errors into the computations on vectors.\n",
    "\n",
    "Thus we take all the examples we have been collecting and put them into a test area. Now we'll make sure these examples *ran the way they ran before* when we make *any code changes*.\n",
    "\n",
    "This is called **testing**."
   ]
  },
  {
   "cell_type": "markdown",
   "metadata": {},
   "source": [
    "### Document your code using Docstrings"
   ]
  },
  {
   "cell_type": "markdown",
   "metadata": {},
   "source": [
    "We'll start by introducing the simplest way to do this: *doctests*. Doctests puts tests into the *documentation strings* of modules, classes and functions.\n",
    "\n",
    "But we have not used documentation strings so far: these are a great way to document what our function, class, or module is doing.\n",
    "\n",
    "Now the function below really does not need documentation, but bear with me, its a nice small example that illustrates docstrings.\n",
    "\n",
    "Docstrings are strings within double-quotes that document modules, classes, or functions. They come in two flavors:\n",
    "\n",
    "(1) The single line flavor:"
   ]
  },
  {
   "cell_type": "code",
   "execution_count": 1,
   "metadata": {},
   "outputs": [],
   "source": [
    "def square(x):\n",
    "    \"Takes a number x and returns its square\"\n",
    "    return x*x"
   ]
  },
  {
   "cell_type": "markdown",
   "metadata": {},
   "source": [
    "Look at the line just below the function definition. It describes what the function is doing. This is a dostring.\n",
    "\n",
    "(2) The multi-line flavor"
   ]
  },
  {
   "cell_type": "code",
   "execution_count": 2,
   "metadata": {},
   "outputs": [],
   "source": [
    "def square(x):\n",
    "    \"\"\"\n",
    "    Takes a number x and returns its square\n",
    "    \n",
    "    Parameters\n",
    "    ----------\n",
    "    \n",
    "    x : number\n",
    "        An int or floating-point number\n",
    "       \n",
    "    Returns\n",
    "    -------\n",
    "    \n",
    "    number\n",
    "        A number of the same type as the input\n",
    "        \n",
    "    \n",
    "    \"\"\"\n",
    "    return x*x"
   ]
  },
  {
   "cell_type": "markdown",
   "metadata": {},
   "source": [
    "Here we illustrate the [Numerical and Scientific Python docstring convention](https://numpydoc.readthedocs.io/en/latest/format.html) (the numpy docstring conventions).\n",
    "\n",
    "For a lot of functions and classes this seems excessive (certainly is for `square`). But the numpy conventions are great when we want to communicate what our functions and classes do.\n",
    "\n",
    "### Write Doctests\n",
    "\n",
    "More importantly for us, though, we can use these docstrings to incorporate tests."
   ]
  },
  {
   "cell_type": "code",
   "execution_count": 9,
   "metadata": {},
   "outputs": [],
   "source": [
    "def square(x):\n",
    "    \"\"\"\n",
    "    Takes a number x and returns its square\n",
    "        \n",
    "    >>> square(5)\n",
    "    25\n",
    "    >>> square(5.0)\n",
    "    25.0\n",
    "    \"\"\"\n",
    "    return x*x"
   ]
  },
  {
   "cell_type": "markdown",
   "metadata": {},
   "source": [
    "The way you specify tests is my writing the code to be tested at a faake prompt \">>>\". Then a space and the code. For example `>>> square(5)`. then on the next line, the expected answer `25` all by itself. More details [here](https://docs.python.org/3/library/doctest.html).\n",
    "\n",
    "The advantage of this format is that you have now provided the user of your function some examples as well..and we all know that examples are the documentation that most people read. Infact, probably the only documentation\n",
    "\n",
    "You can test your function like so:"
   ]
  },
  {
   "cell_type": "code",
   "execution_count": 10,
   "metadata": {},
   "outputs": [
    {
     "name": "stdout",
     "output_type": "stream",
     "text": [
      "Finding tests in NoName\n",
      "Trying:\n",
      "    square(5)\n",
      "Expecting:\n",
      "    25\n",
      "ok\n",
      "Trying:\n",
      "    square(5.0)\n",
      "Expecting:\n",
      "    25.0\n",
      "ok\n"
     ]
    }
   ],
   "source": [
    "import doctest\n",
    "doctest.run_docstring_examples(square, globals(), verbose=True)"
   ]
  },
  {
   "cell_type": "markdown",
   "metadata": {},
   "source": [
    "Lets mess up the implementation of square to see how it fails:"
   ]
  },
  {
   "cell_type": "code",
   "execution_count": 11,
   "metadata": {},
   "outputs": [],
   "source": [
    "def square(x):\n",
    "    \"\"\"\n",
    "    Takes a number x and returns its square\n",
    "        \n",
    "    >>> square(5)\n",
    "    25\n",
    "    >>> square(5.0)\n",
    "    25.0\n",
    "    \"\"\"\n",
    "    return x*x*x"
   ]
  },
  {
   "cell_type": "code",
   "execution_count": 12,
   "metadata": {},
   "outputs": [
    {
     "name": "stdout",
     "output_type": "stream",
     "text": [
      "Finding tests in NoName\n",
      "Trying:\n",
      "    square(5)\n",
      "Expecting:\n",
      "    25\n",
      "**********************************************************************\n",
      "File \"__main__\", line 5, in NoName\n",
      "Failed example:\n",
      "    square(5)\n",
      "Expected:\n",
      "    25\n",
      "Got:\n",
      "    125\n",
      "Trying:\n",
      "    square(5.0)\n",
      "Expecting:\n",
      "    25.0\n",
      "**********************************************************************\n",
      "File \"__main__\", line 7, in NoName\n",
      "Failed example:\n",
      "    square(5.0)\n",
      "Expected:\n",
      "    25.0\n",
      "Got:\n",
      "    125.0\n"
     ]
    }
   ],
   "source": [
    "doctest.run_docstring_examples(square, globals(), verbose=True)"
   ]
  },
  {
   "cell_type": "markdown",
   "metadata": {},
   "source": [
    "You can see the failures since we implemented a cube instead of a square.\n",
    "\n",
    "### Tests in modules\n",
    "\n",
    "Usually when we want to test we'll put our tests in a file which represents are module. So lets do that for our vector class. We create a file `vector2.py` which now has tests in it.\n",
    "\n",
    "The tests we put in are just the examples we have been \"informally\" testing out vector class so far with!"
   ]
  },
  {
   "cell_type": "code",
   "execution_count": 13,
   "metadata": {},
   "outputs": [
    {
     "data": {
      "text/plain": [
       "\u001b[0;34m\"\"\"\u001b[0m\n",
       "\u001b[0;34mThe Vector class lets us do common operations such as\u001b[0m\n",
       "\u001b[0;34maddition, scalar multiplications and dot products.\u001b[0m\n",
       "\u001b[0;34m\u001b[0m\n",
       "\u001b[0;34m>>> v1 = Vector([4, 2, 7])\u001b[0m\n",
       "\u001b[0;34m>>> v2 = Vector([1, -1, 3])\u001b[0m\n",
       "\u001b[0;34m>>> v1+v2\u001b[0m\n",
       "\u001b[0;34mVector([5, 1, 10])\u001b[0m\n",
       "\u001b[0;34m>>> v1 + [-1, -1, 3]\u001b[0m\n",
       "\u001b[0;34mVector([3, 1, 10])\u001b[0m\n",
       "\u001b[0;34m>>> [-1, -1, 3] + v1\u001b[0m\n",
       "\u001b[0;34mVector([3, 1, 10])\u001b[0m\n",
       "\u001b[0;34m>>> v1 + range(3)\u001b[0m\n",
       "\u001b[0;34mVector([4, 3, 9])\u001b[0m\n",
       "\u001b[0;34m>>> v1 + range(2)\u001b[0m\n",
       "\u001b[0;34mVector([4, 3])\u001b[0m\n",
       "\u001b[0;34m>>> λ = 3\u001b[0m\n",
       "\u001b[0;34m>>> v1*λ\u001b[0m\n",
       "\u001b[0;34mVector([12, 6, 21])\u001b[0m\n",
       "\u001b[0;34m>>> λ*v1\u001b[0m\n",
       "\u001b[0;34mVector([12, 6, 21])\u001b[0m\n",
       "\u001b[0;34m\"\"\"\u001b[0m\u001b[0;34m\u001b[0m\n",
       "\u001b[0;34m\u001b[0m\u001b[0;34m\u001b[0m\n",
       "\u001b[0;34m\u001b[0m\u001b[0;32mimport\u001b[0m \u001b[0mreprlib\u001b[0m\u001b[0;34m\u001b[0m\n",
       "\u001b[0;34m\u001b[0m\u001b[0;32mclass\u001b[0m \u001b[0mVector\u001b[0m\u001b[0;34m:\u001b[0m\u001b[0;34m\u001b[0m\n",
       "\u001b[0;34m\u001b[0m    \u001b[0;34m\u001b[0m\n",
       "\u001b[0;34m\u001b[0m    \u001b[0;32mdef\u001b[0m \u001b[0m__init__\u001b[0m\u001b[0;34m(\u001b[0m\u001b[0mself\u001b[0m\u001b[0;34m,\u001b[0m \u001b[0mlst\u001b[0m\u001b[0;34m)\u001b[0m\u001b[0;34m:\u001b[0m\u001b[0;34m\u001b[0m\n",
       "\u001b[0;34m\u001b[0m        \u001b[0;34m\"\"\"\u001b[0m\n",
       "\u001b[0;34m        Create a Vector from a sequence.\u001b[0m\n",
       "\u001b[0;34m        The memory is not copied.\u001b[0m\n",
       "\u001b[0;34m        \"\"\"\u001b[0m\u001b[0;34m\u001b[0m\n",
       "\u001b[0;34m\u001b[0m        \u001b[0mself\u001b[0m\u001b[0;34m.\u001b[0m\u001b[0m_storage\u001b[0m \u001b[0;34m=\u001b[0m \u001b[0mlst\u001b[0m\u001b[0;34m\u001b[0m\n",
       "\u001b[0;34m\u001b[0m\u001b[0;34m\u001b[0m\n",
       "\u001b[0;34m\u001b[0m    \u001b[0;32mdef\u001b[0m \u001b[0m__len__\u001b[0m\u001b[0;34m(\u001b[0m\u001b[0mself\u001b[0m\u001b[0;34m)\u001b[0m\u001b[0;34m:\u001b[0m\u001b[0;34m\u001b[0m\n",
       "\u001b[0;34m\u001b[0m        \u001b[0;34m\"\"\"\u001b[0m\n",
       "\u001b[0;34m        Delegate length to length of storage.\u001b[0m\n",
       "\u001b[0;34m        >>> v = Vector(range(10))\u001b[0m\n",
       "\u001b[0;34m        >>> len(v)\u001b[0m\n",
       "\u001b[0;34m        10\u001b[0m\n",
       "\u001b[0;34m        \"\"\"\u001b[0m\u001b[0;34m\u001b[0m\n",
       "\u001b[0;34m\u001b[0m        \u001b[0;32mreturn\u001b[0m \u001b[0mlen\u001b[0m\u001b[0;34m(\u001b[0m\u001b[0mself\u001b[0m\u001b[0;34m.\u001b[0m\u001b[0m_storage\u001b[0m\u001b[0;34m)\u001b[0m\u001b[0;34m\u001b[0m\n",
       "\u001b[0;34m\u001b[0m    \u001b[0;34m\u001b[0m\n",
       "\u001b[0;34m\u001b[0m    \u001b[0;32mdef\u001b[0m \u001b[0m__getitem__\u001b[0m\u001b[0;34m(\u001b[0m\u001b[0mself\u001b[0m\u001b[0;34m,\u001b[0m \u001b[0mi\u001b[0m\u001b[0;34m)\u001b[0m\u001b[0;34m:\u001b[0m\u001b[0;34m\u001b[0m\n",
       "\u001b[0;34m\u001b[0m        \u001b[0;34m\"delegate getting an index to the underlying list\"\u001b[0m\u001b[0;34m\u001b[0m\n",
       "\u001b[0;34m\u001b[0m        \u001b[0;32mreturn\u001b[0m \u001b[0mself\u001b[0m\u001b[0;34m.\u001b[0m\u001b[0m_storage\u001b[0m\u001b[0;34m[\u001b[0m\u001b[0mi\u001b[0m\u001b[0;34m]\u001b[0m\u001b[0;34m\u001b[0m\n",
       "\u001b[0;34m\u001b[0m\u001b[0;34m\u001b[0m\n",
       "\u001b[0;34m\u001b[0m    \u001b[0;32mdef\u001b[0m \u001b[0m__add__\u001b[0m\u001b[0;34m(\u001b[0m\u001b[0mself\u001b[0m\u001b[0;34m,\u001b[0m \u001b[0mother_vector\u001b[0m\u001b[0;34m)\u001b[0m\u001b[0;34m:\u001b[0m\u001b[0;34m\u001b[0m\n",
       "\u001b[0;34m\u001b[0m        \u001b[0;34m\"\"\"\u001b[0m\n",
       "\u001b[0;34m        Currently truncates to the smaller of the vector\u001b[0m\n",
       "\u001b[0;34m        and added sequence. FIXME.\u001b[0m\n",
       "\u001b[0;34m        \"\"\"\u001b[0m\u001b[0;34m\u001b[0m\n",
       "\u001b[0;34m\u001b[0m        \u001b[0;32mtry\u001b[0m\u001b[0;34m:\u001b[0m\u001b[0;34m\u001b[0m\n",
       "\u001b[0;34m\u001b[0m            \u001b[0msumlist\u001b[0m \u001b[0;34m=\u001b[0m \u001b[0;34m[\u001b[0m\u001b[0;34m]\u001b[0m\u001b[0;34m\u001b[0m\n",
       "\u001b[0;34m\u001b[0m            \u001b[0;32mfor\u001b[0m \u001b[0mi\u001b[0m\u001b[0;34m,\u001b[0m \u001b[0m_\u001b[0m \u001b[0;32min\u001b[0m \u001b[0menumerate\u001b[0m\u001b[0;34m(\u001b[0m\u001b[0mother_vector\u001b[0m\u001b[0;34m)\u001b[0m\u001b[0;34m:\u001b[0m\u001b[0;34m\u001b[0m\n",
       "\u001b[0;34m\u001b[0m                \u001b[0msumlist\u001b[0m\u001b[0;34m.\u001b[0m\u001b[0mappend\u001b[0m\u001b[0;34m(\u001b[0m\u001b[0mself\u001b[0m\u001b[0;34m.\u001b[0m\u001b[0m_storage\u001b[0m\u001b[0;34m[\u001b[0m\u001b[0mi\u001b[0m\u001b[0;34m]\u001b[0m \u001b[0;34m+\u001b[0m \u001b[0mother_vector\u001b[0m\u001b[0;34m[\u001b[0m\u001b[0mi\u001b[0m\u001b[0;34m]\u001b[0m\u001b[0;34m)\u001b[0m\u001b[0;34m\u001b[0m\n",
       "\u001b[0;34m\u001b[0m            \u001b[0;32mreturn\u001b[0m \u001b[0mVector\u001b[0m\u001b[0;34m(\u001b[0m\u001b[0msumlist\u001b[0m\u001b[0;34m)\u001b[0m\u001b[0;34m\u001b[0m\n",
       "\u001b[0;34m\u001b[0m        \u001b[0;32mexcept\u001b[0m \u001b[0mTypeError\u001b[0m\u001b[0;34m:\u001b[0m\u001b[0;34m\u001b[0m\n",
       "\u001b[0;34m\u001b[0m            \u001b[0;32mreturn\u001b[0m \u001b[0mNotImplemented\u001b[0m\u001b[0;34m\u001b[0m\n",
       "\u001b[0;34m\u001b[0m    \u001b[0;34m\u001b[0m\n",
       "\u001b[0;34m\u001b[0m    \u001b[0;32mdef\u001b[0m \u001b[0m__radd__\u001b[0m\u001b[0;34m(\u001b[0m\u001b[0mself\u001b[0m\u001b[0;34m,\u001b[0m \u001b[0mother_vector\u001b[0m\u001b[0;34m)\u001b[0m\u001b[0;34m:\u001b[0m\u001b[0;34m\u001b[0m\n",
       "\u001b[0;34m\u001b[0m        \u001b[0;34m\"add a sequence to a vector by reversing\"\u001b[0m\u001b[0;34m\u001b[0m\n",
       "\u001b[0;34m\u001b[0m        \u001b[0;31m# turn other + self around\u001b[0m\u001b[0;34m\u001b[0m\n",
       "\u001b[0;34m\u001b[0m        \u001b[0;32mreturn\u001b[0m \u001b[0mself\u001b[0m \u001b[0;34m+\u001b[0m \u001b[0mother_vector\u001b[0m\u001b[0;34m\u001b[0m\n",
       "\u001b[0;34m\u001b[0m    \u001b[0;34m\u001b[0m\n",
       "\u001b[0;34m\u001b[0m    \u001b[0;32mdef\u001b[0m \u001b[0m__mul__\u001b[0m\u001b[0;34m(\u001b[0m\u001b[0mself\u001b[0m\u001b[0;34m,\u001b[0m \u001b[0mscalar\u001b[0m\u001b[0;34m)\u001b[0m\u001b[0;34m:\u001b[0m\u001b[0;34m\u001b[0m\n",
       "\u001b[0;34m\u001b[0m        \u001b[0;34m\"Multiply Vector by a scalar\"\u001b[0m\u001b[0;34m\u001b[0m\n",
       "\u001b[0;34m\u001b[0m        \u001b[0;32mreturn\u001b[0m \u001b[0mVector\u001b[0m\u001b[0;34m(\u001b[0m\u001b[0;34m[\u001b[0m\u001b[0mitem\u001b[0m\u001b[0;34m*\u001b[0m\u001b[0mscalar\u001b[0m \u001b[0;32mfor\u001b[0m \u001b[0mitem\u001b[0m \u001b[0;32min\u001b[0m \u001b[0mself\u001b[0m\u001b[0;34m.\u001b[0m\u001b[0m_storage\u001b[0m\u001b[0;34m]\u001b[0m\u001b[0;34m)\u001b[0m\u001b[0;34m\u001b[0m\n",
       "\u001b[0;34m\u001b[0m\u001b[0;34m\u001b[0m\n",
       "\u001b[0;34m\u001b[0m    \u001b[0;32mdef\u001b[0m \u001b[0m__rmul__\u001b[0m\u001b[0;34m(\u001b[0m\u001b[0mself\u001b[0m\u001b[0;34m,\u001b[0m \u001b[0mscalar\u001b[0m\u001b[0;34m)\u001b[0m\u001b[0;34m:\u001b[0m\u001b[0;34m\u001b[0m\n",
       "\u001b[0;34m\u001b[0m        \u001b[0;34m\"multiply scalar by a vector\"\u001b[0m\u001b[0;34m\u001b[0m\n",
       "\u001b[0;34m\u001b[0m        \u001b[0;32mreturn\u001b[0m \u001b[0mself\u001b[0m\u001b[0;34m*\u001b[0m\u001b[0mscalar\u001b[0m\u001b[0;34m\u001b[0m\n",
       "\u001b[0;34m\u001b[0m\u001b[0;34m\u001b[0m\n",
       "\u001b[0;34m\u001b[0m    \u001b[0;32mdef\u001b[0m \u001b[0m__repr__\u001b[0m\u001b[0;34m(\u001b[0m\u001b[0mself\u001b[0m\u001b[0;34m)\u001b[0m\u001b[0;34m:\u001b[0m\u001b[0;34m\u001b[0m\n",
       "\u001b[0;34m\u001b[0m        \u001b[0mcomponents\u001b[0m \u001b[0;34m=\u001b[0m \u001b[0mreprlib\u001b[0m\u001b[0;34m.\u001b[0m\u001b[0mrepr\u001b[0m\u001b[0;34m(\u001b[0m\u001b[0mself\u001b[0m\u001b[0;34m.\u001b[0m\u001b[0m_storage\u001b[0m\u001b[0;34m)\u001b[0m\u001b[0;34m\u001b[0m\n",
       "\u001b[0;34m\u001b[0m        \u001b[0;32mreturn\u001b[0m \u001b[0;34mf\"Vector({components})\"\u001b[0m\u001b[0;34m\u001b[0m\n",
       "\u001b[0;34m\u001b[0m\u001b[0;34m\u001b[0m\n",
       "\u001b[0;34m\u001b[0m\u001b[0;34m\u001b[0m\n",
       "\u001b[0;34m\u001b[0m\u001b[0;34m\u001b[0m\n",
       "\u001b[0;34m\u001b[0m\u001b[0;32mif\u001b[0m \u001b[0m__name__\u001b[0m \u001b[0;34m==\u001b[0m \u001b[0;34m\"__main__\"\u001b[0m\u001b[0;34m:\u001b[0m\u001b[0;34m\u001b[0m\n",
       "\u001b[0;34m\u001b[0m    \u001b[0;32mimport\u001b[0m \u001b[0mdoctest\u001b[0m\u001b[0;34m\u001b[0m\n",
       "\u001b[0;34m\u001b[0m    \u001b[0mdoctest\u001b[0m\u001b[0;34m.\u001b[0m\u001b[0mtestmod\u001b[0m\u001b[0;34m(\u001b[0m\u001b[0;34m)\u001b[0m\u001b[0;34m\u001b[0m\u001b[0;34m\u001b[0m\u001b[0m\n"
      ]
     },
     "metadata": {},
     "output_type": "display_data"
    }
   ],
   "source": [
    "%pycat vector2.py"
   ]
  },
  {
   "cell_type": "markdown",
   "metadata": {},
   "source": [
    "The `if __name__ == \"__main__\":` section at the bottom will be run when you test. You test by going to the command line and doing `python vector2.py -v`. This is simulated in the notebook by putting a bang (!) before the command"
   ]
  },
  {
   "cell_type": "code",
   "execution_count": 14,
   "metadata": {},
   "outputs": [
    {
     "name": "stdout",
     "output_type": "stream",
     "text": [
      "Trying:\n",
      "    v1 = Vector([4, 2, 7])\n",
      "Expecting nothing\n",
      "ok\n",
      "Trying:\n",
      "    v2 = Vector([1, -1, 3])\n",
      "Expecting nothing\n",
      "ok\n",
      "Trying:\n",
      "    v1+v2\n",
      "Expecting:\n",
      "    Vector([5, 1, 10])\n",
      "ok\n",
      "Trying:\n",
      "    v1 + [-1, -1, 3]\n",
      "Expecting:\n",
      "    Vector([3, 1, 10])\n",
      "ok\n",
      "Trying:\n",
      "    [-1, -1, 3] + v1\n",
      "Expecting:\n",
      "    Vector([3, 1, 10])\n",
      "ok\n",
      "Trying:\n",
      "    v1 + range(3)\n",
      "Expecting:\n",
      "    Vector([4, 3, 9])\n",
      "ok\n",
      "Trying:\n",
      "    v1 + range(2)\n",
      "Expecting:\n",
      "    Vector([4, 3])\n",
      "ok\n",
      "Trying:\n",
      "    λ = 3\n",
      "Expecting nothing\n",
      "ok\n",
      "Trying:\n",
      "    v1*λ\n",
      "Expecting:\n",
      "    Vector([12, 6, 21])\n",
      "ok\n",
      "Trying:\n",
      "    λ*v1\n",
      "Expecting:\n",
      "    Vector([12, 6, 21])\n",
      "ok\n",
      "Trying:\n",
      "    v = Vector(range(10))\n",
      "Expecting nothing\n",
      "ok\n",
      "Trying:\n",
      "    len(v)\n",
      "Expecting:\n",
      "    10\n",
      "ok\n",
      "8 items had no tests:\n",
      "    __main__.Vector\n",
      "    __main__.Vector.__add__\n",
      "    __main__.Vector.__getitem__\n",
      "    __main__.Vector.__init__\n",
      "    __main__.Vector.__mul__\n",
      "    __main__.Vector.__radd__\n",
      "    __main__.Vector.__repr__\n",
      "    __main__.Vector.__rmul__\n",
      "2 items passed all tests:\n",
      "  10 tests in __main__\n",
      "   2 tests in __main__.Vector.__len__\n",
      "12 tests in 10 items.\n",
      "12 passed and 0 failed.\n",
      "Test passed.\n"
     ]
    }
   ],
   "source": [
    "!python vector2.py -v"
   ]
  },
  {
   "cell_type": "markdown",
   "metadata": {},
   "source": [
    "You can see all our tests pass. You can also run these interactively in the jupyter notebook:"
   ]
  },
  {
   "cell_type": "raw",
   "metadata": {},
   "source": [
    "import vector2\n",
    "doctest.testmod(vector2, verbose=True)"
   ]
  },
  {
   "cell_type": "markdown",
   "metadata": {},
   "source": [
    "## Test Driven Programming\n",
    "\n",
    "So we wrote some code, and then tested it. Sometimes you might want to write the tests first, before you have done the development, to establish what your code should do.\n",
    "\n",
    "For instance, our addition seems to truncate the final vector, which for n-dimensional vector algebra, seems just wierd. If you are adding a smaller dimensional vector to a larger dimensional vector, it makes sense to \"embed\" the smaller dimensional vector into the space of the larger dimensional one. Thus we will want to pad the smaller vector with zeroes.\n",
    "\n",
    "We also want to support dot products. The python operator for dot products is `@`. (This is actually the operator for matrix multiplication, but as we shall see, dot products are a special case of matrix multiplication.) For 2 vectors, we compute the dot product by multiplying the vectors componentwise and then summing the multiplied pairs. We encounter the same dimensionality issue here as well, which we fix by padding with zeros.\n",
    "\n",
    "### Adding new tests\n",
    "\n",
    "So we add tests corresponding to these:\n",
    "\n",
    "```python\n",
    ">>> v1 = Vector([4, 2, 7])\n",
    ">>> v2 = Vector([1, -1, 3])\n",
    ">>> v1 + range(2)\n",
    "Vector([4, 3, 7])\n",
    ">>> range(2) + v1\n",
    "Vector([4, 3, 7])\n",
    ">>> λ = 3\n",
    ">>> v1*λ\n",
    "Vector([12, 6, 21])\n",
    ">>> λ*v1\n",
    "Vector([12, 6, 21])\n",
    ">>> v1@v2\n",
    "23\n",
    ">>> v2@v1\n",
    "23\n",
    "```"
   ]
  },
  {
   "cell_type": "code",
   "execution_count": 15,
   "metadata": {},
   "outputs": [
    {
     "data": {
      "text/plain": [
       "\u001b[0;34m\"\"\"\u001b[0m\n",
       "\u001b[0;34mThe Vector class lets us do common operations such as\u001b[0m\n",
       "\u001b[0;34maddition, scalar multiplications and dot products.\u001b[0m\n",
       "\u001b[0;34m\u001b[0m\n",
       "\u001b[0;34m>>> v1 = Vector([4, 2, 7])\u001b[0m\n",
       "\u001b[0;34m>>> v2 = Vector([1, -1, 3])\u001b[0m\n",
       "\u001b[0;34m>>> v1 + v2\u001b[0m\n",
       "\u001b[0;34mVector([5, 1, 10])\u001b[0m\n",
       "\u001b[0;34m>>> v1 + [-1, -1, 3]\u001b[0m\n",
       "\u001b[0;34mVector([3, 1, 10])\u001b[0m\n",
       "\u001b[0;34m>>> [-1, -1, 3] + v1\u001b[0m\n",
       "\u001b[0;34mVector([3, 1, 10])\u001b[0m\n",
       "\u001b[0;34m>>> v1 + range(3)\u001b[0m\n",
       "\u001b[0;34mVector([4, 3, 9])\u001b[0m\n",
       "\u001b[0;34m>>> v1 + range(2)\u001b[0m\n",
       "\u001b[0;34mVector([4, 3, 7])\u001b[0m\n",
       "\u001b[0;34m>>> range(2) + v1\u001b[0m\n",
       "\u001b[0;34mVector([4, 3, 7])\u001b[0m\n",
       "\u001b[0;34m>>> λ = 3\u001b[0m\n",
       "\u001b[0;34m>>> v1*λ\u001b[0m\n",
       "\u001b[0;34mVector([12, 6, 21])\u001b[0m\n",
       "\u001b[0;34m>>> λ*v1\u001b[0m\n",
       "\u001b[0;34mVector([12, 6, 21])\u001b[0m\n",
       "\u001b[0;34m>>> v1@v2\u001b[0m\n",
       "\u001b[0;34m23\u001b[0m\n",
       "\u001b[0;34m>>> v2@v1\u001b[0m\n",
       "\u001b[0;34m23\u001b[0m\n",
       "\u001b[0;34m>>> v1 @ [-1, -1, 3]\u001b[0m\n",
       "\u001b[0;34m15\u001b[0m\n",
       "\u001b[0;34m>>> [-1, -1, 3]@v1\u001b[0m\n",
       "\u001b[0;34m15\u001b[0m\n",
       "\u001b[0;34m\"\"\"\u001b[0m\u001b[0;34m\u001b[0m\n",
       "\u001b[0;34m\u001b[0m\u001b[0;34m\u001b[0m\n",
       "\u001b[0;34m\u001b[0m\u001b[0;32mimport\u001b[0m \u001b[0mreprlib\u001b[0m\u001b[0;34m\u001b[0m\n",
       "\u001b[0;34m\u001b[0m\u001b[0;32mclass\u001b[0m \u001b[0mVector\u001b[0m\u001b[0;34m:\u001b[0m\u001b[0;34m\u001b[0m\n",
       "\u001b[0;34m\u001b[0m    \u001b[0;34m\u001b[0m\n",
       "\u001b[0;34m\u001b[0m    \u001b[0;32mdef\u001b[0m \u001b[0m__init__\u001b[0m\u001b[0;34m(\u001b[0m\u001b[0mself\u001b[0m\u001b[0;34m,\u001b[0m \u001b[0mlst\u001b[0m\u001b[0;34m)\u001b[0m\u001b[0;34m:\u001b[0m\u001b[0;34m\u001b[0m\n",
       "\u001b[0;34m\u001b[0m        \u001b[0;34m\"\"\"\u001b[0m\n",
       "\u001b[0;34m        Create a Vector from a sequence.\u001b[0m\n",
       "\u001b[0;34m        The memory is not copied.\u001b[0m\n",
       "\u001b[0;34m        \"\"\"\u001b[0m\u001b[0;34m\u001b[0m\n",
       "\u001b[0;34m\u001b[0m        \u001b[0mself\u001b[0m\u001b[0;34m.\u001b[0m\u001b[0m_storage\u001b[0m \u001b[0;34m=\u001b[0m \u001b[0mlst\u001b[0m\u001b[0;34m\u001b[0m\n",
       "\u001b[0;34m\u001b[0m\u001b[0;34m\u001b[0m\n",
       "\u001b[0;34m\u001b[0m    \u001b[0;32mdef\u001b[0m \u001b[0m__len__\u001b[0m\u001b[0;34m(\u001b[0m\u001b[0mself\u001b[0m\u001b[0;34m)\u001b[0m\u001b[0;34m:\u001b[0m\u001b[0;34m\u001b[0m\n",
       "\u001b[0;34m\u001b[0m        \u001b[0;34m\"\"\"\u001b[0m\n",
       "\u001b[0;34m        Delegate length to length of storage.\u001b[0m\n",
       "\u001b[0;34m        >>> v = Vector(range(10))\u001b[0m\n",
       "\u001b[0;34m        >>> len(v)\u001b[0m\n",
       "\u001b[0;34m        10\u001b[0m\n",
       "\u001b[0;34m        \"\"\"\u001b[0m\u001b[0;34m\u001b[0m\n",
       "\u001b[0;34m\u001b[0m        \u001b[0;32mreturn\u001b[0m \u001b[0mlen\u001b[0m\u001b[0;34m(\u001b[0m\u001b[0mself\u001b[0m\u001b[0;34m.\u001b[0m\u001b[0m_storage\u001b[0m\u001b[0;34m)\u001b[0m\u001b[0;34m\u001b[0m\n",
       "\u001b[0;34m\u001b[0m    \u001b[0;34m\u001b[0m\n",
       "\u001b[0;34m\u001b[0m    \u001b[0;32mdef\u001b[0m \u001b[0m__getitem__\u001b[0m\u001b[0;34m(\u001b[0m\u001b[0mself\u001b[0m\u001b[0;34m,\u001b[0m \u001b[0mi\u001b[0m\u001b[0;34m)\u001b[0m\u001b[0;34m:\u001b[0m\u001b[0;34m\u001b[0m\n",
       "\u001b[0;34m\u001b[0m        \u001b[0;34m\"delegate getting an index to the underlying list\"\u001b[0m\u001b[0;34m\u001b[0m\n",
       "\u001b[0;34m\u001b[0m        \u001b[0;32mreturn\u001b[0m \u001b[0mself\u001b[0m\u001b[0;34m.\u001b[0m\u001b[0m_storage\u001b[0m\u001b[0;34m[\u001b[0m\u001b[0mi\u001b[0m\u001b[0;34m]\u001b[0m\u001b[0;34m\u001b[0m\n",
       "\u001b[0;34m\u001b[0m\u001b[0;34m\u001b[0m\n",
       "\u001b[0;34m\u001b[0m    \u001b[0;32mdef\u001b[0m \u001b[0m__add__\u001b[0m\u001b[0;34m(\u001b[0m\u001b[0mself\u001b[0m\u001b[0;34m,\u001b[0m \u001b[0mother_vector\u001b[0m\u001b[0;34m)\u001b[0m\u001b[0;34m:\u001b[0m\u001b[0;34m\u001b[0m\n",
       "\u001b[0;34m\u001b[0m        \u001b[0;34m\"\"\"\u001b[0m\n",
       "\u001b[0;34m        Currently truncates to the smaller of the vector\u001b[0m\n",
       "\u001b[0;34m        and added sequence. FIXME.\u001b[0m\n",
       "\u001b[0;34m        \"\"\"\u001b[0m\u001b[0;34m\u001b[0m\n",
       "\u001b[0;34m\u001b[0m        \u001b[0;32mtry\u001b[0m\u001b[0;34m:\u001b[0m\u001b[0;34m\u001b[0m\n",
       "\u001b[0;34m\u001b[0m            \u001b[0msumlist\u001b[0m \u001b[0;34m=\u001b[0m \u001b[0;34m[\u001b[0m\u001b[0;34m]\u001b[0m\u001b[0;34m\u001b[0m\n",
       "\u001b[0;34m\u001b[0m            \u001b[0;32mfor\u001b[0m \u001b[0mi\u001b[0m\u001b[0;34m,\u001b[0m \u001b[0m_\u001b[0m \u001b[0;32min\u001b[0m \u001b[0menumerate\u001b[0m\u001b[0;34m(\u001b[0m\u001b[0mother_vector\u001b[0m\u001b[0;34m)\u001b[0m\u001b[0;34m:\u001b[0m\u001b[0;34m\u001b[0m\n",
       "\u001b[0;34m\u001b[0m                \u001b[0msumlist\u001b[0m\u001b[0;34m.\u001b[0m\u001b[0mappend\u001b[0m\u001b[0;34m(\u001b[0m\u001b[0mself\u001b[0m\u001b[0;34m.\u001b[0m\u001b[0m_storage\u001b[0m\u001b[0;34m[\u001b[0m\u001b[0mi\u001b[0m\u001b[0;34m]\u001b[0m \u001b[0;34m+\u001b[0m \u001b[0mother_vector\u001b[0m\u001b[0;34m[\u001b[0m\u001b[0mi\u001b[0m\u001b[0;34m]\u001b[0m\u001b[0;34m)\u001b[0m\u001b[0;34m\u001b[0m\n",
       "\u001b[0;34m\u001b[0m            \u001b[0;32mreturn\u001b[0m \u001b[0mVector\u001b[0m\u001b[0;34m(\u001b[0m\u001b[0msumlist\u001b[0m\u001b[0;34m)\u001b[0m\u001b[0;34m\u001b[0m\n",
       "\u001b[0;34m\u001b[0m        \u001b[0;32mexcept\u001b[0m \u001b[0mTypeError\u001b[0m\u001b[0;34m:\u001b[0m\u001b[0;34m\u001b[0m\n",
       "\u001b[0;34m\u001b[0m            \u001b[0;32mreturn\u001b[0m \u001b[0mNotImplemented\u001b[0m\u001b[0;34m\u001b[0m\n",
       "\u001b[0;34m\u001b[0m    \u001b[0;34m\u001b[0m\n",
       "\u001b[0;34m\u001b[0m    \u001b[0;32mdef\u001b[0m \u001b[0m__radd__\u001b[0m\u001b[0;34m(\u001b[0m\u001b[0mself\u001b[0m\u001b[0;34m,\u001b[0m \u001b[0mother_vector\u001b[0m\u001b[0;34m)\u001b[0m\u001b[0;34m:\u001b[0m\u001b[0;34m\u001b[0m\n",
       "\u001b[0;34m\u001b[0m        \u001b[0;34m\"add a sequence to a vector by reversing\"\u001b[0m\u001b[0;34m\u001b[0m\n",
       "\u001b[0;34m\u001b[0m        \u001b[0;31m# turn other + self around\u001b[0m\u001b[0;34m\u001b[0m\n",
       "\u001b[0;34m\u001b[0m        \u001b[0;32mreturn\u001b[0m \u001b[0mself\u001b[0m \u001b[0;34m+\u001b[0m \u001b[0mother_vector\u001b[0m\u001b[0;34m\u001b[0m\n",
       "\u001b[0;34m\u001b[0m    \u001b[0;34m\u001b[0m\n",
       "\u001b[0;34m\u001b[0m    \u001b[0;32mdef\u001b[0m \u001b[0m__mul__\u001b[0m\u001b[0;34m(\u001b[0m\u001b[0mself\u001b[0m\u001b[0;34m,\u001b[0m \u001b[0mscalar\u001b[0m\u001b[0;34m)\u001b[0m\u001b[0;34m:\u001b[0m\u001b[0;34m\u001b[0m\n",
       "\u001b[0;34m\u001b[0m        \u001b[0;34m\"Multiply Vector by a scalar\"\u001b[0m\u001b[0;34m\u001b[0m\n",
       "\u001b[0;34m\u001b[0m        \u001b[0;32mreturn\u001b[0m \u001b[0mVector\u001b[0m\u001b[0;34m(\u001b[0m\u001b[0;34m[\u001b[0m\u001b[0mitem\u001b[0m\u001b[0;34m*\u001b[0m\u001b[0mscalar\u001b[0m \u001b[0;32mfor\u001b[0m \u001b[0mitem\u001b[0m \u001b[0;32min\u001b[0m \u001b[0mself\u001b[0m\u001b[0;34m.\u001b[0m\u001b[0m_storage\u001b[0m\u001b[0;34m]\u001b[0m\u001b[0;34m)\u001b[0m\u001b[0;34m\u001b[0m\n",
       "\u001b[0;34m\u001b[0m\u001b[0;34m\u001b[0m\n",
       "\u001b[0;34m\u001b[0m    \u001b[0;32mdef\u001b[0m \u001b[0m__rmul__\u001b[0m\u001b[0;34m(\u001b[0m\u001b[0mself\u001b[0m\u001b[0;34m,\u001b[0m \u001b[0mscalar\u001b[0m\u001b[0;34m)\u001b[0m\u001b[0;34m:\u001b[0m\u001b[0;34m\u001b[0m\n",
       "\u001b[0;34m\u001b[0m        \u001b[0;34m\"multiply scalar by a vector\"\u001b[0m\u001b[0;34m\u001b[0m\n",
       "\u001b[0;34m\u001b[0m        \u001b[0;32mreturn\u001b[0m \u001b[0mself\u001b[0m\u001b[0;34m*\u001b[0m\u001b[0mscalar\u001b[0m\u001b[0;34m\u001b[0m\n",
       "\u001b[0;34m\u001b[0m\u001b[0;34m\u001b[0m\n",
       "\u001b[0;34m\u001b[0m    \u001b[0;32mdef\u001b[0m \u001b[0m__repr__\u001b[0m\u001b[0;34m(\u001b[0m\u001b[0mself\u001b[0m\u001b[0;34m)\u001b[0m\u001b[0;34m:\u001b[0m\u001b[0;34m\u001b[0m\n",
       "\u001b[0;34m\u001b[0m        \u001b[0mcomponents\u001b[0m \u001b[0;34m=\u001b[0m \u001b[0mreprlib\u001b[0m\u001b[0;34m.\u001b[0m\u001b[0mrepr\u001b[0m\u001b[0;34m(\u001b[0m\u001b[0mself\u001b[0m\u001b[0;34m.\u001b[0m\u001b[0m_storage\u001b[0m\u001b[0;34m)\u001b[0m\u001b[0;34m\u001b[0m\n",
       "\u001b[0;34m\u001b[0m        \u001b[0;32mreturn\u001b[0m \u001b[0;34mf\"Vector({components})\"\u001b[0m\u001b[0;34m\u001b[0m\n",
       "\u001b[0;34m\u001b[0m\u001b[0;34m\u001b[0m\n",
       "\u001b[0;34m\u001b[0m\u001b[0;34m\u001b[0m\n",
       "\u001b[0;34m\u001b[0m\u001b[0;34m\u001b[0m\n",
       "\u001b[0;34m\u001b[0m\u001b[0;32mif\u001b[0m \u001b[0m__name__\u001b[0m \u001b[0;34m==\u001b[0m \u001b[0;34m\"__main__\"\u001b[0m\u001b[0;34m:\u001b[0m\u001b[0;34m\u001b[0m\n",
       "\u001b[0;34m\u001b[0m    \u001b[0;32mimport\u001b[0m \u001b[0mdoctest\u001b[0m\u001b[0;34m\u001b[0m\n",
       "\u001b[0;34m\u001b[0m    \u001b[0mdoctest\u001b[0m\u001b[0;34m.\u001b[0m\u001b[0mtestmod\u001b[0m\u001b[0;34m(\u001b[0m\u001b[0;34m)\u001b[0m\u001b[0;34m\u001b[0m\u001b[0;34m\u001b[0m\u001b[0m\n"
      ]
     },
     "metadata": {},
     "output_type": "display_data"
    }
   ],
   "source": [
    "%pycat vector3.py"
   ]
  },
  {
   "cell_type": "markdown",
   "metadata": {},
   "source": [
    "Now we run our tests:"
   ]
  },
  {
   "cell_type": "code",
   "execution_count": 16,
   "metadata": {},
   "outputs": [
    {
     "name": "stdout",
     "output_type": "stream",
     "text": [
      "Trying:\n",
      "    v1 = Vector([4, 2, 7])\n",
      "Expecting nothing\n",
      "ok\n",
      "Trying:\n",
      "    v2 = Vector([1, -1, 3])\n",
      "Expecting nothing\n",
      "ok\n",
      "Trying:\n",
      "    v1 + v2\n",
      "Expecting:\n",
      "    Vector([5, 1, 10])\n",
      "ok\n",
      "Trying:\n",
      "    v1 + [-1, -1, 3]\n",
      "Expecting:\n",
      "    Vector([3, 1, 10])\n",
      "ok\n",
      "Trying:\n",
      "    [-1, -1, 3] + v1\n",
      "Expecting:\n",
      "    Vector([3, 1, 10])\n",
      "ok\n",
      "Trying:\n",
      "    v1 + range(3)\n",
      "Expecting:\n",
      "    Vector([4, 3, 9])\n",
      "ok\n",
      "Trying:\n",
      "    v1 + range(2)\n",
      "Expecting:\n",
      "    Vector([4, 3, 7])\n",
      "**********************************************************************\n",
      "File \"/Users/rahul/Projects/univai/KnowThisFirst/Know-This-First-Dump/Content/l2/vector3.py\", line 15, in vector3\n",
      "Failed example:\n",
      "    v1 + range(2)\n",
      "Expected:\n",
      "    Vector([4, 3, 7])\n",
      "Got:\n",
      "    Vector([4, 3])\n",
      "Trying:\n",
      "    range(2) + v1\n",
      "Expecting:\n",
      "    Vector([4, 3, 7])\n",
      "**********************************************************************\n",
      "File \"/Users/rahul/Projects/univai/KnowThisFirst/Know-This-First-Dump/Content/l2/vector3.py\", line 17, in vector3\n",
      "Failed example:\n",
      "    range(2) + v1\n",
      "Expected:\n",
      "    Vector([4, 3, 7])\n",
      "Got:\n",
      "    Vector([4, 3])\n",
      "Trying:\n",
      "    λ = 3\n",
      "Expecting nothing\n",
      "ok\n",
      "Trying:\n",
      "    v1*λ\n",
      "Expecting:\n",
      "    Vector([12, 6, 21])\n",
      "ok\n",
      "Trying:\n",
      "    λ*v1\n",
      "Expecting:\n",
      "    Vector([12, 6, 21])\n",
      "ok\n",
      "Trying:\n",
      "    v1@v2\n",
      "Expecting:\n",
      "    23\n",
      "**********************************************************************\n",
      "File \"/Users/rahul/Projects/univai/KnowThisFirst/Know-This-First-Dump/Content/l2/vector3.py\", line 24, in vector3\n",
      "Failed example:\n",
      "    v1@v2\n",
      "Exception raised:\n",
      "    Traceback (most recent call last):\n",
      "      File \"//anaconda/envs/py3l/lib/python3.6/doctest.py\", line 1330, in __run\n",
      "        compileflags, 1), test.globs)\n",
      "      File \"<doctest vector3[11]>\", line 1, in <module>\n",
      "        v1@v2\n",
      "    TypeError: unsupported operand type(s) for @: 'Vector' and 'Vector'\n",
      "Trying:\n",
      "    v2@v1\n",
      "Expecting:\n",
      "    23\n",
      "**********************************************************************\n",
      "File \"/Users/rahul/Projects/univai/KnowThisFirst/Know-This-First-Dump/Content/l2/vector3.py\", line 26, in vector3\n",
      "Failed example:\n",
      "    v2@v1\n",
      "Exception raised:\n",
      "    Traceback (most recent call last):\n",
      "      File \"//anaconda/envs/py3l/lib/python3.6/doctest.py\", line 1330, in __run\n",
      "        compileflags, 1), test.globs)\n",
      "      File \"<doctest vector3[12]>\", line 1, in <module>\n",
      "        v2@v1\n",
      "    TypeError: unsupported operand type(s) for @: 'Vector' and 'Vector'\n",
      "Trying:\n",
      "    v1 @ [-1, -1, 3]\n",
      "Expecting:\n",
      "    15\n",
      "**********************************************************************\n",
      "File \"/Users/rahul/Projects/univai/KnowThisFirst/Know-This-First-Dump/Content/l2/vector3.py\", line 28, in vector3\n",
      "Failed example:\n",
      "    v1 @ [-1, -1, 3]\n",
      "Exception raised:\n",
      "    Traceback (most recent call last):\n",
      "      File \"//anaconda/envs/py3l/lib/python3.6/doctest.py\", line 1330, in __run\n",
      "        compileflags, 1), test.globs)\n",
      "      File \"<doctest vector3[13]>\", line 1, in <module>\n",
      "        v1 @ [-1, -1, 3]\n",
      "    TypeError: unsupported operand type(s) for @: 'Vector' and 'list'\n",
      "Trying:\n",
      "    [-1, -1, 3]@v1\n",
      "Expecting:\n",
      "    15\n",
      "**********************************************************************\n",
      "File \"/Users/rahul/Projects/univai/KnowThisFirst/Know-This-First-Dump/Content/l2/vector3.py\", line 30, in vector3\n",
      "Failed example:\n",
      "    [-1, -1, 3]@v1\n",
      "Exception raised:\n",
      "    Traceback (most recent call last):\n",
      "      File \"//anaconda/envs/py3l/lib/python3.6/doctest.py\", line 1330, in __run\n",
      "        compileflags, 1), test.globs)\n",
      "      File \"<doctest vector3[14]>\", line 1, in <module>\n",
      "        [-1, -1, 3]@v1\n",
      "    TypeError: unsupported operand type(s) for @: 'list' and 'Vector'\n",
      "Trying:\n",
      "    v = Vector(range(10))\n",
      "Expecting nothing\n",
      "ok\n",
      "Trying:\n",
      "    len(v)\n",
      "Expecting:\n",
      "    10\n",
      "ok\n",
      "8 items had no tests:\n",
      "    vector3.Vector\n",
      "    vector3.Vector.__add__\n",
      "    vector3.Vector.__getitem__\n",
      "    vector3.Vector.__init__\n",
      "    vector3.Vector.__mul__\n",
      "    vector3.Vector.__radd__\n",
      "    vector3.Vector.__repr__\n",
      "    vector3.Vector.__rmul__\n",
      "1 items passed all tests:\n",
      "   2 tests in vector3.Vector.__len__\n",
      "**********************************************************************\n",
      "1 items had failures:\n",
      "   6 of  15 in vector3\n",
      "17 tests in 10 items.\n",
      "11 passed and 6 failed.\n",
      "***Test Failed*** 6 failures.\n"
     ]
    },
    {
     "data": {
      "text/plain": [
       "TestResults(failed=6, attempted=17)"
      ]
     },
     "execution_count": 16,
     "metadata": {},
     "output_type": "execute_result"
    }
   ],
   "source": [
    "import vector3\n",
    "doctest.testmod(vector3, verbose=True)"
   ]
  },
  {
   "cell_type": "markdown",
   "metadata": {},
   "source": [
    "What happened here? All the tests which have anything to do with adding lower dimensional sequences in failed. Also the dot product ones!\n",
    "\n",
    "### Add features to your code to fix the failed tests\n",
    "\n",
    "Lets write code to fix this! We first write a function that pads any two sequences to the longest sequence"
   ]
  },
  {
   "cell_type": "code",
   "execution_count": 11,
   "metadata": {},
   "outputs": [],
   "source": [
    "def pad_vectors(left, right):\n",
    "    maxlen = max(len(left), len(right))\n",
    "    outleft, outright = [], []\n",
    "    for i in range(maxlen):\n",
    "        if i > len(left) - 1:\n",
    "            leftval = 0\n",
    "        else:\n",
    "            leftval = left[i]\n",
    "        outleft.append(leftval)\n",
    "        if i > len(right) - 1:\n",
    "            rightval = 0\n",
    "        else:\n",
    "            rightval = right[i]\n",
    "        outright.append(rightval)\n",
    "    return outleft, outright"
   ]
  },
  {
   "cell_type": "code",
   "execution_count": 12,
   "metadata": {},
   "outputs": [
    {
     "data": {
      "text/plain": [
       "([0, 1, 0, 0, 0], [5, 6, 7, 8, 9])"
      ]
     },
     "execution_count": 12,
     "metadata": {},
     "output_type": "execute_result"
    }
   ],
   "source": [
    "pad_vectors(range(2), range(5,10))"
   ]
  },
  {
   "cell_type": "code",
   "execution_count": 13,
   "metadata": {},
   "outputs": [
    {
     "data": {
      "text/plain": [
       "([1, 2, 3, 0, 0, 0, 0, 0, 0, 0], [0, 1, 2, 3, 4, 5, 6, 7, 8, 9])"
      ]
     },
     "execution_count": 13,
     "metadata": {},
     "output_type": "execute_result"
    }
   ],
   "source": [
    "pad_vectors([1, 2, 3], range(10))"
   ]
  },
  {
   "cell_type": "markdown",
   "metadata": {},
   "source": [
    "We'll incorporate these examples as tests. Because we implemented the sequence protolcol for the vector class, we know this will work for vectors as well.\n",
    "\n",
    "```python\n",
    "def pad_vectors(left, right):\n",
    "    \"\"\"\n",
    "    pad sequence left or right with zeros to make\n",
    "    both sequences the length of the longest sequence\n",
    "\n",
    "    >>> pad_vectors(range(2), range(5,10))\n",
    "    ([0, 1, 0, 0, 0], [5, 6, 7, 8, 9])\n",
    "    >>> pad_vectors([1, 2, 3], range(10))\n",
    "    ([1, 2, 3, 0, 0, 0, 0, 0, 0, 0], [0, 1, 2, 3, 4, 5, 6, 7, 8, 9])\n",
    "    \"\"\"\n",
    "    ...\n",
    "```\n",
    "\n",
    "Now we can use this in addition and matrix multiplication to do the needful:\n",
    "\n",
    "```python\n",
    "def __add__(self, other_vector):\n",
    "        \"\"\"\n",
    "        Adding 2 vectors, pads to longest length\n",
    "        \"\"\"\n",
    "        try:\n",
    "            left, right = pad_vectors(self, other_vector)\n",
    "            return Vector([a + b for a, b in zip(left, right)])\n",
    "        except TypeError:\n",
    "            return NotImplemented\n",
    "```\n",
    "\n",
    "```python\n",
    "def __matmul__(self, other_vector): \n",
    "        try:\n",
    "            left, right = pad_vectors(self, other_vector)\n",
    "            return sum([a * b for a, b in zip(left, right)]) \n",
    "        except TypeError:\n",
    "            return NotImplemented \n",
    "```\n",
    "\n",
    "The entire code is here, below:"
   ]
  },
  {
   "cell_type": "code",
   "execution_count": 17,
   "metadata": {},
   "outputs": [
    {
     "data": {
      "text/plain": [
       "\u001b[0;34m\"\"\"\u001b[0m\n",
       "\u001b[0;34mThe Vector class lets us do common operations such as\u001b[0m\n",
       "\u001b[0;34maddition, scalar multiplications and dot products.\u001b[0m\n",
       "\u001b[0;34m\u001b[0m\n",
       "\u001b[0;34m>>> v1 = Vector([4, 2, 7])\u001b[0m\n",
       "\u001b[0;34m>>> v2 = Vector([1, -1, 3])\u001b[0m\n",
       "\u001b[0;34m>>> v1+v2\u001b[0m\n",
       "\u001b[0;34mVector([5, 1, 10])\u001b[0m\n",
       "\u001b[0;34m>>> v1 + [-1, -1, 3]\u001b[0m\n",
       "\u001b[0;34mVector([3, 1, 10])\u001b[0m\n",
       "\u001b[0;34m>>> [-1, -1, 3] + v1\u001b[0m\n",
       "\u001b[0;34mVector([3, 1, 10])\u001b[0m\n",
       "\u001b[0;34m>>> v1 + range(3)\u001b[0m\n",
       "\u001b[0;34mVector([4, 3, 9])\u001b[0m\n",
       "\u001b[0;34m>>> v1 + range(2)\u001b[0m\n",
       "\u001b[0;34mVector([4, 3, 7])\u001b[0m\n",
       "\u001b[0;34m>>> range(2) + v1\u001b[0m\n",
       "\u001b[0;34mVector([4, 3, 7])\u001b[0m\n",
       "\u001b[0;34m>>> λ = 3\u001b[0m\n",
       "\u001b[0;34m>>> v1*λ\u001b[0m\n",
       "\u001b[0;34mVector([12, 6, 21])\u001b[0m\n",
       "\u001b[0;34m>>> λ*v1\u001b[0m\n",
       "\u001b[0;34mVector([12, 6, 21])\u001b[0m\n",
       "\u001b[0;34m>>> v1@v2\u001b[0m\n",
       "\u001b[0;34m23\u001b[0m\n",
       "\u001b[0;34m>>> v2@v1\u001b[0m\n",
       "\u001b[0;34m23\u001b[0m\n",
       "\u001b[0;34m>>> v1 @ [-1, -1, 3]\u001b[0m\n",
       "\u001b[0;34m15\u001b[0m\n",
       "\u001b[0;34m>>> [-1, -1, 3]@v1\u001b[0m\n",
       "\u001b[0;34m15\u001b[0m\n",
       "\u001b[0;34m\"\"\"\u001b[0m\u001b[0;34m\u001b[0m\n",
       "\u001b[0;34m\u001b[0m\u001b[0;34m\u001b[0m\n",
       "\u001b[0;34m\u001b[0m\u001b[0;32mdef\u001b[0m \u001b[0mpad_vectors\u001b[0m\u001b[0;34m(\u001b[0m\u001b[0mleft\u001b[0m\u001b[0;34m,\u001b[0m \u001b[0mright\u001b[0m\u001b[0;34m)\u001b[0m\u001b[0;34m:\u001b[0m\u001b[0;34m\u001b[0m\n",
       "\u001b[0;34m\u001b[0m    \u001b[0;34m\"\"\"\u001b[0m\n",
       "\u001b[0;34m    pad sequence left or right with zeros to make\u001b[0m\n",
       "\u001b[0;34m    both sequences the length of the longest sequence\u001b[0m\n",
       "\u001b[0;34m\u001b[0m\n",
       "\u001b[0;34m    >>> pad_vectors(range(2), range(5,10))\u001b[0m\n",
       "\u001b[0;34m    ([0, 1, 0, 0, 0], [5, 6, 7, 8, 9])\u001b[0m\n",
       "\u001b[0;34m    >>> pad_vectors([1, 2, 3], range(10))\u001b[0m\n",
       "\u001b[0;34m    ([1, 2, 3, 0, 0, 0, 0, 0, 0, 0], [0, 1, 2, 3, 4, 5, 6, 7, 8, 9])\u001b[0m\n",
       "\u001b[0;34m    \"\"\"\u001b[0m\u001b[0;34m\u001b[0m\n",
       "\u001b[0;34m\u001b[0m    \u001b[0mmaxlen\u001b[0m \u001b[0;34m=\u001b[0m \u001b[0mmax\u001b[0m\u001b[0;34m(\u001b[0m\u001b[0mlen\u001b[0m\u001b[0;34m(\u001b[0m\u001b[0mleft\u001b[0m\u001b[0;34m)\u001b[0m\u001b[0;34m,\u001b[0m \u001b[0mlen\u001b[0m\u001b[0;34m(\u001b[0m\u001b[0mright\u001b[0m\u001b[0;34m)\u001b[0m\u001b[0;34m)\u001b[0m\u001b[0;34m\u001b[0m\n",
       "\u001b[0;34m\u001b[0m    \u001b[0moutleft\u001b[0m\u001b[0;34m,\u001b[0m \u001b[0moutright\u001b[0m \u001b[0;34m=\u001b[0m \u001b[0;34m[\u001b[0m\u001b[0;34m]\u001b[0m\u001b[0;34m,\u001b[0m \u001b[0;34m[\u001b[0m\u001b[0;34m]\u001b[0m\u001b[0;34m\u001b[0m\n",
       "\u001b[0;34m\u001b[0m    \u001b[0;32mfor\u001b[0m \u001b[0mi\u001b[0m \u001b[0;32min\u001b[0m \u001b[0mrange\u001b[0m\u001b[0;34m(\u001b[0m\u001b[0mmaxlen\u001b[0m\u001b[0;34m)\u001b[0m\u001b[0;34m:\u001b[0m\u001b[0;34m\u001b[0m\n",
       "\u001b[0;34m\u001b[0m        \u001b[0;32mif\u001b[0m \u001b[0mi\u001b[0m \u001b[0;34m>\u001b[0m \u001b[0mlen\u001b[0m\u001b[0;34m(\u001b[0m\u001b[0mleft\u001b[0m\u001b[0;34m)\u001b[0m \u001b[0;34m-\u001b[0m \u001b[0;36m1\u001b[0m\u001b[0;34m:\u001b[0m\u001b[0;34m\u001b[0m\n",
       "\u001b[0;34m\u001b[0m            \u001b[0mleftval\u001b[0m \u001b[0;34m=\u001b[0m \u001b[0;36m0\u001b[0m\u001b[0;34m\u001b[0m\n",
       "\u001b[0;34m\u001b[0m        \u001b[0;32melse\u001b[0m\u001b[0;34m:\u001b[0m\u001b[0;34m\u001b[0m\n",
       "\u001b[0;34m\u001b[0m            \u001b[0mleftval\u001b[0m \u001b[0;34m=\u001b[0m \u001b[0mleft\u001b[0m\u001b[0;34m[\u001b[0m\u001b[0mi\u001b[0m\u001b[0;34m]\u001b[0m\u001b[0;34m\u001b[0m\n",
       "\u001b[0;34m\u001b[0m        \u001b[0moutleft\u001b[0m\u001b[0;34m.\u001b[0m\u001b[0mappend\u001b[0m\u001b[0;34m(\u001b[0m\u001b[0mleftval\u001b[0m\u001b[0;34m)\u001b[0m\u001b[0;34m\u001b[0m\n",
       "\u001b[0;34m\u001b[0m        \u001b[0;32mif\u001b[0m \u001b[0mi\u001b[0m \u001b[0;34m>\u001b[0m \u001b[0mlen\u001b[0m\u001b[0;34m(\u001b[0m\u001b[0mright\u001b[0m\u001b[0;34m)\u001b[0m \u001b[0;34m-\u001b[0m \u001b[0;36m1\u001b[0m\u001b[0;34m:\u001b[0m\u001b[0;34m\u001b[0m\n",
       "\u001b[0;34m\u001b[0m            \u001b[0mrightval\u001b[0m \u001b[0;34m=\u001b[0m \u001b[0;36m0\u001b[0m\u001b[0;34m\u001b[0m\n",
       "\u001b[0;34m\u001b[0m        \u001b[0;32melse\u001b[0m\u001b[0;34m:\u001b[0m\u001b[0;34m\u001b[0m\n",
       "\u001b[0;34m\u001b[0m            \u001b[0mrightval\u001b[0m \u001b[0;34m=\u001b[0m \u001b[0mright\u001b[0m\u001b[0;34m[\u001b[0m\u001b[0mi\u001b[0m\u001b[0;34m]\u001b[0m\u001b[0;34m\u001b[0m\n",
       "\u001b[0;34m\u001b[0m        \u001b[0moutright\u001b[0m\u001b[0;34m.\u001b[0m\u001b[0mappend\u001b[0m\u001b[0;34m(\u001b[0m\u001b[0mrightval\u001b[0m\u001b[0;34m)\u001b[0m\u001b[0;34m\u001b[0m\n",
       "\u001b[0;34m\u001b[0m    \u001b[0;32mreturn\u001b[0m \u001b[0moutleft\u001b[0m\u001b[0;34m,\u001b[0m \u001b[0moutright\u001b[0m\u001b[0;34m\u001b[0m\n",
       "\u001b[0;34m\u001b[0m\u001b[0;34m\u001b[0m\n",
       "\u001b[0;34m\u001b[0m\u001b[0;32mimport\u001b[0m \u001b[0mreprlib\u001b[0m\u001b[0;34m\u001b[0m\n",
       "\u001b[0;34m\u001b[0m\u001b[0;32mclass\u001b[0m \u001b[0mVector\u001b[0m\u001b[0;34m:\u001b[0m\u001b[0;34m\u001b[0m\n",
       "\u001b[0;34m\u001b[0m    \u001b[0;34m\u001b[0m\n",
       "\u001b[0;34m\u001b[0m    \u001b[0;32mdef\u001b[0m \u001b[0m__init__\u001b[0m\u001b[0;34m(\u001b[0m\u001b[0mself\u001b[0m\u001b[0;34m,\u001b[0m \u001b[0mlst\u001b[0m\u001b[0;34m)\u001b[0m\u001b[0;34m:\u001b[0m\u001b[0;34m\u001b[0m\n",
       "\u001b[0;34m\u001b[0m        \u001b[0;34m\"\"\"\u001b[0m\n",
       "\u001b[0;34m        Create a Vector from a sequence.\u001b[0m\n",
       "\u001b[0;34m        The memory is not copied.\u001b[0m\n",
       "\u001b[0;34m        \"\"\"\u001b[0m\u001b[0;34m\u001b[0m\n",
       "\u001b[0;34m\u001b[0m        \u001b[0mself\u001b[0m\u001b[0;34m.\u001b[0m\u001b[0m_storage\u001b[0m \u001b[0;34m=\u001b[0m \u001b[0mlst\u001b[0m\u001b[0;34m\u001b[0m\n",
       "\u001b[0;34m\u001b[0m\u001b[0;34m\u001b[0m\n",
       "\u001b[0;34m\u001b[0m    \u001b[0;32mdef\u001b[0m \u001b[0m__len__\u001b[0m\u001b[0;34m(\u001b[0m\u001b[0mself\u001b[0m\u001b[0;34m)\u001b[0m\u001b[0;34m:\u001b[0m\u001b[0;34m\u001b[0m\n",
       "\u001b[0;34m\u001b[0m        \u001b[0;34m\"\"\"\u001b[0m\n",
       "\u001b[0;34m        Delegate length to length of storage.\u001b[0m\n",
       "\u001b[0;34m        >>> v = Vector(range(10))\u001b[0m\n",
       "\u001b[0;34m        >>> len(v)\u001b[0m\n",
       "\u001b[0;34m        10\u001b[0m\n",
       "\u001b[0;34m        \"\"\"\u001b[0m\u001b[0;34m\u001b[0m\n",
       "\u001b[0;34m\u001b[0m        \u001b[0;32mreturn\u001b[0m \u001b[0mlen\u001b[0m\u001b[0;34m(\u001b[0m\u001b[0mself\u001b[0m\u001b[0;34m.\u001b[0m\u001b[0m_storage\u001b[0m\u001b[0;34m)\u001b[0m\u001b[0;34m\u001b[0m\n",
       "\u001b[0;34m\u001b[0m    \u001b[0;34m\u001b[0m\n",
       "\u001b[0;34m\u001b[0m    \u001b[0;32mdef\u001b[0m \u001b[0m__getitem__\u001b[0m\u001b[0;34m(\u001b[0m\u001b[0mself\u001b[0m\u001b[0;34m,\u001b[0m \u001b[0mi\u001b[0m\u001b[0;34m)\u001b[0m\u001b[0;34m:\u001b[0m\u001b[0;34m\u001b[0m\n",
       "\u001b[0;34m\u001b[0m        \u001b[0;34m\"delegate getting an index to the underlying list\"\u001b[0m\u001b[0;34m\u001b[0m\n",
       "\u001b[0;34m\u001b[0m        \u001b[0;32mreturn\u001b[0m \u001b[0mself\u001b[0m\u001b[0;34m.\u001b[0m\u001b[0m_storage\u001b[0m\u001b[0;34m[\u001b[0m\u001b[0mi\u001b[0m\u001b[0;34m]\u001b[0m\u001b[0;34m\u001b[0m\n",
       "\u001b[0;34m\u001b[0m\u001b[0;34m\u001b[0m\n",
       "\u001b[0;34m\u001b[0m    \u001b[0;32mdef\u001b[0m \u001b[0m__add__\u001b[0m\u001b[0;34m(\u001b[0m\u001b[0mself\u001b[0m\u001b[0;34m,\u001b[0m \u001b[0mother_vector\u001b[0m\u001b[0;34m)\u001b[0m\u001b[0;34m:\u001b[0m\u001b[0;34m\u001b[0m\n",
       "\u001b[0;34m\u001b[0m        \u001b[0;34m\"\"\"\u001b[0m\n",
       "\u001b[0;34m        Adding 2 vectors, pads to longest length\u001b[0m\n",
       "\u001b[0;34m        \"\"\"\u001b[0m\u001b[0;34m\u001b[0m\n",
       "\u001b[0;34m\u001b[0m        \u001b[0;32mtry\u001b[0m\u001b[0;34m:\u001b[0m\u001b[0;34m\u001b[0m\n",
       "\u001b[0;34m\u001b[0m            \u001b[0mleft\u001b[0m\u001b[0;34m,\u001b[0m \u001b[0mright\u001b[0m \u001b[0;34m=\u001b[0m \u001b[0mpad_vectors\u001b[0m\u001b[0;34m(\u001b[0m\u001b[0mself\u001b[0m\u001b[0;34m,\u001b[0m \u001b[0mother_vector\u001b[0m\u001b[0;34m)\u001b[0m\u001b[0;34m\u001b[0m\n",
       "\u001b[0;34m\u001b[0m            \u001b[0;32mreturn\u001b[0m \u001b[0mVector\u001b[0m\u001b[0;34m(\u001b[0m\u001b[0;34m[\u001b[0m\u001b[0ma\u001b[0m \u001b[0;34m+\u001b[0m \u001b[0mb\u001b[0m \u001b[0;32mfor\u001b[0m \u001b[0ma\u001b[0m\u001b[0;34m,\u001b[0m \u001b[0mb\u001b[0m \u001b[0;32min\u001b[0m \u001b[0mzip\u001b[0m\u001b[0;34m(\u001b[0m\u001b[0mleft\u001b[0m\u001b[0;34m,\u001b[0m \u001b[0mright\u001b[0m\u001b[0;34m)\u001b[0m\u001b[0;34m]\u001b[0m\u001b[0;34m)\u001b[0m\u001b[0;34m\u001b[0m\n",
       "\u001b[0;34m\u001b[0m        \u001b[0;32mexcept\u001b[0m \u001b[0mTypeError\u001b[0m\u001b[0;34m:\u001b[0m\u001b[0;34m\u001b[0m\n",
       "\u001b[0;34m\u001b[0m            \u001b[0;32mreturn\u001b[0m \u001b[0mNotImplemented\u001b[0m\u001b[0;34m\u001b[0m\n",
       "\u001b[0;34m\u001b[0m    \u001b[0;34m\u001b[0m\n",
       "\u001b[0;34m\u001b[0m    \u001b[0;32mdef\u001b[0m \u001b[0m__radd__\u001b[0m\u001b[0;34m(\u001b[0m\u001b[0mself\u001b[0m\u001b[0;34m,\u001b[0m \u001b[0mother_vector\u001b[0m\u001b[0;34m)\u001b[0m\u001b[0;34m:\u001b[0m\u001b[0;34m\u001b[0m\n",
       "\u001b[0;34m\u001b[0m        \u001b[0;34m\"add a sequence to a vector by reversing\"\u001b[0m\u001b[0;34m\u001b[0m\n",
       "\u001b[0;34m\u001b[0m        \u001b[0;31m# turn other + self around\u001b[0m\u001b[0;34m\u001b[0m\n",
       "\u001b[0;34m\u001b[0m        \u001b[0;32mreturn\u001b[0m \u001b[0mself\u001b[0m \u001b[0;34m+\u001b[0m \u001b[0mother_vector\u001b[0m\u001b[0;34m\u001b[0m\n",
       "\u001b[0;34m\u001b[0m    \u001b[0;34m\u001b[0m\n",
       "\u001b[0;34m\u001b[0m    \u001b[0;32mdef\u001b[0m \u001b[0m__mul__\u001b[0m\u001b[0;34m(\u001b[0m\u001b[0mself\u001b[0m\u001b[0;34m,\u001b[0m \u001b[0mscalar\u001b[0m\u001b[0;34m)\u001b[0m\u001b[0;34m:\u001b[0m\u001b[0;34m\u001b[0m\n",
       "\u001b[0;34m\u001b[0m        \u001b[0;34m\"Multiply Vector by a scalar\"\u001b[0m\u001b[0;34m\u001b[0m\n",
       "\u001b[0;34m\u001b[0m        \u001b[0;32mreturn\u001b[0m \u001b[0mVector\u001b[0m\u001b[0;34m(\u001b[0m\u001b[0;34m[\u001b[0m\u001b[0mitem\u001b[0m\u001b[0;34m*\u001b[0m\u001b[0mscalar\u001b[0m \u001b[0;32mfor\u001b[0m \u001b[0mitem\u001b[0m \u001b[0;32min\u001b[0m \u001b[0mself\u001b[0m\u001b[0;34m.\u001b[0m\u001b[0m_storage\u001b[0m\u001b[0;34m]\u001b[0m\u001b[0;34m)\u001b[0m\u001b[0;34m\u001b[0m\n",
       "\u001b[0;34m\u001b[0m\u001b[0;34m\u001b[0m\n",
       "\u001b[0;34m\u001b[0m    \u001b[0;32mdef\u001b[0m \u001b[0m__rmul__\u001b[0m\u001b[0;34m(\u001b[0m\u001b[0mself\u001b[0m\u001b[0;34m,\u001b[0m \u001b[0mscalar\u001b[0m\u001b[0;34m)\u001b[0m\u001b[0;34m:\u001b[0m\u001b[0;34m\u001b[0m\n",
       "\u001b[0;34m\u001b[0m        \u001b[0;34m\"multiply scalar by a vector\"\u001b[0m\u001b[0;34m\u001b[0m\n",
       "\u001b[0;34m\u001b[0m        \u001b[0;32mreturn\u001b[0m \u001b[0mself\u001b[0m\u001b[0;34m*\u001b[0m\u001b[0mscalar\u001b[0m\u001b[0;34m\u001b[0m\n",
       "\u001b[0;34m\u001b[0m\u001b[0;34m\u001b[0m\n",
       "\u001b[0;34m\u001b[0m    \u001b[0;32mdef\u001b[0m \u001b[0m__matmul__\u001b[0m\u001b[0;34m(\u001b[0m\u001b[0mself\u001b[0m\u001b[0;34m,\u001b[0m \u001b[0mother_vector\u001b[0m\u001b[0;34m)\u001b[0m\u001b[0;34m:\u001b[0m \u001b[0;34m\u001b[0m\n",
       "\u001b[0;34m\u001b[0m        \u001b[0;32mtry\u001b[0m\u001b[0;34m:\u001b[0m\u001b[0;34m\u001b[0m\n",
       "\u001b[0;34m\u001b[0m            \u001b[0mleft\u001b[0m\u001b[0;34m,\u001b[0m \u001b[0mright\u001b[0m \u001b[0;34m=\u001b[0m \u001b[0mpad_vectors\u001b[0m\u001b[0;34m(\u001b[0m\u001b[0mself\u001b[0m\u001b[0;34m,\u001b[0m \u001b[0mother_vector\u001b[0m\u001b[0;34m)\u001b[0m\u001b[0;34m\u001b[0m\n",
       "\u001b[0;34m\u001b[0m            \u001b[0;32mreturn\u001b[0m \u001b[0msum\u001b[0m\u001b[0;34m(\u001b[0m\u001b[0;34m[\u001b[0m\u001b[0ma\u001b[0m \u001b[0;34m*\u001b[0m \u001b[0mb\u001b[0m \u001b[0;32mfor\u001b[0m \u001b[0ma\u001b[0m\u001b[0;34m,\u001b[0m \u001b[0mb\u001b[0m \u001b[0;32min\u001b[0m \u001b[0mzip\u001b[0m\u001b[0;34m(\u001b[0m\u001b[0mleft\u001b[0m\u001b[0;34m,\u001b[0m \u001b[0mright\u001b[0m\u001b[0;34m)\u001b[0m\u001b[0;34m]\u001b[0m\u001b[0;34m)\u001b[0m \u001b[0;34m\u001b[0m\n",
       "\u001b[0;34m\u001b[0m        \u001b[0;32mexcept\u001b[0m \u001b[0mTypeError\u001b[0m\u001b[0;34m:\u001b[0m\u001b[0;34m\u001b[0m\n",
       "\u001b[0;34m\u001b[0m            \u001b[0;32mreturn\u001b[0m \u001b[0mNotImplemented\u001b[0m \u001b[0;34m\u001b[0m\n",
       "\u001b[0;34m\u001b[0m            \u001b[0;34m\u001b[0m\n",
       "\u001b[0;34m\u001b[0m    \u001b[0;32mdef\u001b[0m \u001b[0m__rmatmul__\u001b[0m\u001b[0;34m(\u001b[0m\u001b[0mself\u001b[0m\u001b[0;34m,\u001b[0m \u001b[0mother_vector\u001b[0m\u001b[0;34m)\u001b[0m\u001b[0;34m:\u001b[0m\u001b[0;34m\u001b[0m\n",
       "\u001b[0;34m\u001b[0m        \u001b[0;32mreturn\u001b[0m \u001b[0mself\u001b[0m \u001b[0;34m@\u001b[0m \u001b[0mother_vector\u001b[0m\u001b[0;34m\u001b[0m\n",
       "\u001b[0;34m\u001b[0m\u001b[0;34m\u001b[0m\n",
       "\u001b[0;34m\u001b[0m    \u001b[0;32mdef\u001b[0m \u001b[0m__repr__\u001b[0m\u001b[0;34m(\u001b[0m\u001b[0mself\u001b[0m\u001b[0;34m)\u001b[0m\u001b[0;34m:\u001b[0m\u001b[0;34m\u001b[0m\n",
       "\u001b[0;34m\u001b[0m        \u001b[0mcomponents\u001b[0m \u001b[0;34m=\u001b[0m \u001b[0mreprlib\u001b[0m\u001b[0;34m.\u001b[0m\u001b[0mrepr\u001b[0m\u001b[0;34m(\u001b[0m\u001b[0mself\u001b[0m\u001b[0;34m.\u001b[0m\u001b[0m_storage\u001b[0m\u001b[0;34m)\u001b[0m\u001b[0;34m\u001b[0m\n",
       "\u001b[0;34m\u001b[0m        \u001b[0;32mreturn\u001b[0m \u001b[0;34mf\"Vector({components})\"\u001b[0m\u001b[0;34m\u001b[0m\n",
       "\u001b[0;34m\u001b[0m\u001b[0;34m\u001b[0m\n",
       "\u001b[0;34m\u001b[0m\u001b[0;34m\u001b[0m\n",
       "\u001b[0;34m\u001b[0m\u001b[0;34m\u001b[0m\n",
       "\u001b[0;34m\u001b[0m\u001b[0;32mif\u001b[0m \u001b[0m__name__\u001b[0m \u001b[0;34m==\u001b[0m \u001b[0;34m\"__main__\"\u001b[0m\u001b[0;34m:\u001b[0m\u001b[0;34m\u001b[0m\n",
       "\u001b[0;34m\u001b[0m    \u001b[0;32mimport\u001b[0m \u001b[0mdoctest\u001b[0m\u001b[0;34m\u001b[0m\n",
       "\u001b[0;34m\u001b[0m    \u001b[0mdoctest\u001b[0m\u001b[0;34m.\u001b[0m\u001b[0mtestmod\u001b[0m\u001b[0;34m(\u001b[0m\u001b[0;34m)\u001b[0m\u001b[0;34m\u001b[0m\u001b[0;34m\u001b[0m\u001b[0m\n"
      ]
     },
     "metadata": {},
     "output_type": "display_data"
    }
   ],
   "source": [
    "%pycat vector4.py"
   ]
  },
  {
   "cell_type": "markdown",
   "metadata": {},
   "source": [
    "And running the tests give us:"
   ]
  },
  {
   "cell_type": "code",
   "execution_count": 18,
   "metadata": {},
   "outputs": [
    {
     "name": "stdout",
     "output_type": "stream",
     "text": [
      "Trying:\n",
      "    v1 = Vector([4, 2, 7])\n",
      "Expecting nothing\n",
      "ok\n",
      "Trying:\n",
      "    v2 = Vector([1, -1, 3])\n",
      "Expecting nothing\n",
      "ok\n",
      "Trying:\n",
      "    v1+v2\n",
      "Expecting:\n",
      "    Vector([5, 1, 10])\n",
      "ok\n",
      "Trying:\n",
      "    v1 + [-1, -1, 3]\n",
      "Expecting:\n",
      "    Vector([3, 1, 10])\n",
      "ok\n",
      "Trying:\n",
      "    [-1, -1, 3] + v1\n",
      "Expecting:\n",
      "    Vector([3, 1, 10])\n",
      "ok\n",
      "Trying:\n",
      "    v1 + range(3)\n",
      "Expecting:\n",
      "    Vector([4, 3, 9])\n",
      "ok\n",
      "Trying:\n",
      "    v1 + range(2)\n",
      "Expecting:\n",
      "    Vector([4, 3, 7])\n",
      "ok\n",
      "Trying:\n",
      "    range(2) + v1\n",
      "Expecting:\n",
      "    Vector([4, 3, 7])\n",
      "ok\n",
      "Trying:\n",
      "    λ = 3\n",
      "Expecting nothing\n",
      "ok\n",
      "Trying:\n",
      "    v1*λ\n",
      "Expecting:\n",
      "    Vector([12, 6, 21])\n",
      "ok\n",
      "Trying:\n",
      "    λ*v1\n",
      "Expecting:\n",
      "    Vector([12, 6, 21])\n",
      "ok\n",
      "Trying:\n",
      "    v1@v2\n",
      "Expecting:\n",
      "    23\n",
      "ok\n",
      "Trying:\n",
      "    v2@v1\n",
      "Expecting:\n",
      "    23\n",
      "ok\n",
      "Trying:\n",
      "    v1 @ [-1, -1, 3]\n",
      "Expecting:\n",
      "    15\n",
      "ok\n",
      "Trying:\n",
      "    [-1, -1, 3]@v1\n",
      "Expecting:\n",
      "    15\n",
      "ok\n",
      "Trying:\n",
      "    v = Vector(range(10))\n",
      "Expecting nothing\n",
      "ok\n",
      "Trying:\n",
      "    len(v)\n",
      "Expecting:\n",
      "    10\n",
      "ok\n",
      "Trying:\n",
      "    pad_vectors(range(2), range(5,10))\n",
      "Expecting:\n",
      "    ([0, 1, 0, 0, 0], [5, 6, 7, 8, 9])\n",
      "ok\n",
      "Trying:\n",
      "    pad_vectors([1, 2, 3], range(10))\n",
      "Expecting:\n",
      "    ([1, 2, 3, 0, 0, 0, 0, 0, 0, 0], [0, 1, 2, 3, 4, 5, 6, 7, 8, 9])\n",
      "ok\n",
      "10 items had no tests:\n",
      "    vector4.Vector\n",
      "    vector4.Vector.__add__\n",
      "    vector4.Vector.__getitem__\n",
      "    vector4.Vector.__init__\n",
      "    vector4.Vector.__matmul__\n",
      "    vector4.Vector.__mul__\n",
      "    vector4.Vector.__radd__\n",
      "    vector4.Vector.__repr__\n",
      "    vector4.Vector.__rmatmul__\n",
      "    vector4.Vector.__rmul__\n",
      "3 items passed all tests:\n",
      "  15 tests in vector4\n",
      "   2 tests in vector4.Vector.__len__\n",
      "   2 tests in vector4.pad_vectors\n",
      "19 tests in 13 items.\n",
      "19 passed and 0 failed.\n",
      "Test passed.\n"
     ]
    },
    {
     "data": {
      "text/plain": [
       "TestResults(failed=0, attempted=19)"
      ]
     },
     "execution_count": 18,
     "metadata": {},
     "output_type": "execute_result"
    }
   ],
   "source": [
    "import vector4\n",
    "doctest.testmod(vector4, verbose=True)"
   ]
  },
  {
   "cell_type": "markdown",
   "metadata": {},
   "source": [
    "### Using the new class\n",
    "\n",
    "Using the new vector class is nice, but we still fail on translation:"
   ]
  },
  {
   "cell_type": "code",
   "execution_count": 17,
   "metadata": {},
   "outputs": [
    {
     "ename": "TypeError",
     "evalue": "unsupported operand type(s) for +: 'Vector' and 'int'",
     "output_type": "error",
     "traceback": [
      "\u001b[0;31m---------------------------------------------------------------------------\u001b[0m",
      "\u001b[0;31mTypeError\u001b[0m                                 Traceback (most recent call last)",
      "\u001b[0;32m<ipython-input-17-b5b8553557c9>\u001b[0m in \u001b[0;36m<module>\u001b[0;34m()\u001b[0m\n\u001b[1;32m      1\u001b[0m \u001b[0mv1\u001b[0m \u001b[0;34m=\u001b[0m \u001b[0mvector4\u001b[0m\u001b[0;34m.\u001b[0m\u001b[0mVector\u001b[0m\u001b[0;34m(\u001b[0m\u001b[0;34m[\u001b[0m\u001b[0;36m1\u001b[0m\u001b[0;34m,\u001b[0m\u001b[0;36m2\u001b[0m\u001b[0;34m,\u001b[0m\u001b[0;36m3\u001b[0m\u001b[0;34m]\u001b[0m\u001b[0;34m)\u001b[0m\u001b[0;34m\u001b[0m\u001b[0;34m\u001b[0m\u001b[0m\n\u001b[0;32m----> 2\u001b[0;31m \u001b[0mv1\u001b[0m \u001b[0;34m+\u001b[0m \u001b[0;36m5\u001b[0m\u001b[0;34m\u001b[0m\u001b[0;34m\u001b[0m\u001b[0m\n\u001b[0m",
      "\u001b[0;31mTypeError\u001b[0m: unsupported operand type(s) for +: 'Vector' and 'int'"
     ]
    }
   ],
   "source": [
    "v1 = vector4.Vector([1,2,3])\n",
    "v1 + 5"
   ]
  },
  {
   "cell_type": "markdown",
   "metadata": {},
   "source": [
    "The natural thing to do here  is to add 5 to every component. This is called *broadcasting*, and we shall soon see how to use numpys *ndarray* to achieve this."
   ]
  }
 ],
 "metadata": {
  "kernelspec": {
   "display_name": "Python 3",
   "language": "python",
   "name": "python3"
  },
  "language_info": {
   "codemirror_mode": {
    "name": "ipython",
    "version": 3
   },
   "file_extension": ".py",
   "mimetype": "text/x-python",
   "name": "python",
   "nbconvert_exporter": "python",
   "pygments_lexer": "ipython3",
   "version": "3.6.8"
  }
 },
 "nbformat": 4,
 "nbformat_minor": 4
}
