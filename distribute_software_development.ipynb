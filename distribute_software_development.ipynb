{
  "metadata": {
    "kernelspec": {
      "display_name": "Python 3",
      "language": "python",
      "name": "python3"
    },
    "language_info": {
      "codemirror_mode": {
        "name": "ipython",
        "version": 3
      },
      "file_extension": ".py",
      "mimetype": "text/x-python",
      "name": "python",
      "nbconvert_exporter": "python",
      "pygments_lexer": "ipython3",
      "version": "3.6.8"
    }
  },
  "nbformat": 4,
  "nbformat_minor": 4,
  "cells": [
    {
      "cell_type": "markdown",
      "metadata": {},
      "source": [
        "# Software Development"
      ]
    },
    {
      "cell_type": "markdown",
      "metadata": {},
      "source": [
        "## Put Reusable code in modules\n",
        "\n",
        "You might remember that we re-factored our decorator to use a generic cache. In the same spirit, we would like to refactor our code to use our `Vector` claa more generically.\n",
        "\n",
        "To be able to reuse our Vector class at multiple places, we put it into a file called `vector.py` with the following code"
      ]
    },
    {
      "cell_type": "markdown",
      "metadata": {},
      "source": [
        "```python\n",
        "import reprlib\n",
        "class Vector:\n",
        "    \n",
        "    def __init__(self, lst):\n",
        "        self._storage = lst\n",
        "        \n",
        "    def __len__(self):\n",
        "        return len(self._storage)\n",
        "    \n",
        "    def __getitem__(self, i):\n",
        "        return self._storage[i]\n",
        "\n",
        "    def __add__(self, other_vector):\n",
        "        try:\n",
        "            sumlist = []\n",
        "            for i, _ in enumerate(other_vector):\n",
        "                sumlist.append(self._storage[i] + other_vector[i])\n",
        "            return Vector(sumlist)\n",
        "        except TypeError:\n",
        "            return NotImplemented\n",
        "    \n",
        "    def __radd__(self, other_vector):\n",
        "        # turn other + self around\n",
        "        return self + other_vector\n",
        "    \n",
        "    def __mul__(self, scalar):\n",
        "        return Vector([item*scalar for item in self._storage])\n",
        "\n",
        "    def __rmul__(self, scalar):\n",
        "        return self*scalar\n",
        "\n",
        "    def __repr__(self):\n",
        "        components = reprlib.repr(self._storage)\n",
        "        return f\"Vector({components})\"\n",
        "```\n",
        "\n",
        "The `reprlib` module usage allows us to print a truncated representation of the list"
      ]
    },
    {
      "cell_type": "code",
      "execution_count": 1,
      "metadata": {},
      "outputs": [],
      "source": [
        "import vector\n",
        "v1 = vector.Vector([1, 2, 3, 4, 5, 6, 7, 8, 9, 10])\n",
        "v1"
      ]
    },
    {
      "cell_type": "code",
      "execution_count": 2,
      "metadata": {},
      "outputs": [],
      "source": [
        "v1 = vector.Vector([4, 2, 7])\n",
        "v1 + [-1, -1, 3]"
      ]
    },
    {
      "cell_type": "code",
      "execution_count": 3,
      "metadata": {},
      "outputs": [],
      "source": [
        "[-1, -1, 3] + v1"
      ]
    },
    {
      "cell_type": "code",
      "execution_count": 5,
      "metadata": {},
      "outputs": [],
      "source": [
        "v1 + 5 # not yet working"
      ]
    },
    {
      "cell_type": "code",
      "execution_count": 6,
      "metadata": {},
      "outputs": [],
      "source": [
        "5*v1"
      ]
    },
    {
      "cell_type": "code",
      "execution_count": 7,
      "metadata": {},
      "outputs": [],
      "source": [
        "v1*5"
      ]
    },
    {
      "cell_type": "markdown",
      "metadata": {},
      "source": [
        "## Document and and Test before programming more\n",
        "\n",
        "As we make code changes, we want to be sure that our code is not introducing errors into the computations on vectors.\n",
        "\n",
        "Thus we take all the examples we have been collecting and put them into a test area. Now we'll make sure these examples *ran the way they ran before* when we make *any code changes*.\n",
        "\n",
        "This is called **testing**."
      ]
    },
    {
      "cell_type": "markdown",
      "metadata": {},
      "source": [
        "### Document your code using Docstrings"
      ]
    },
    {
      "cell_type": "markdown",
      "metadata": {},
      "source": [
        "We'll start by introducing the simplest way to do this: *doctests*. Doctests puts tests into the *documentation strings* of modules, classes and functions.\n",
        "\n",
        "But we have not used documentation strings so far: these are a great way to document what our function, class, or module is doing.\n",
        "\n",
        "Now the function below really does not need documentation, but bear with me, its a nice small example that illustrates docstrings.\n",
        "\n",
        "Docstrings are strings within double-quotes that document modules, classes, or functions. They come in two flavors:\n",
        "\n",
        "(1) The single line flavor:"
      ]
    },
    {
      "cell_type": "code",
      "execution_count": 1,
      "metadata": {},
      "outputs": [],
      "source": [
        "def square(x):\n",
        "    \"Takes a number x and returns its square\"\n",
        "    return x*x"
      ]
    },
    {
      "cell_type": "markdown",
      "metadata": {},
      "source": [
        "Look at the line just below the function definition. It describes what the function is doing. This is a dostring.\n",
        "\n",
        "(2) The multi-line flavor"
      ]
    },
    {
      "cell_type": "code",
      "execution_count": 2,
      "metadata": {},
      "outputs": [],
      "source": [
        "def square(x):\n",
        "    \"\"\"\n",
        "    Takes a number x and returns its square\n",
        "    \n",
        "    Parameters\n",
        "    ----------\n",
        "    \n",
        "    x : number\n",
        "        An int or floating-point number\n",
        "       \n",
        "    Returns\n",
        "    -------\n",
        "    \n",
        "    number\n",
        "        A number of the same type as the input\n",
        "        \n",
        "    \n",
        "    \"\"\"\n",
        "    return x*x"
      ]
    },
    {
      "cell_type": "markdown",
      "metadata": {},
      "source": [
        "Here we illustrate the [Numerical and Scientific Python docstring convention](https://numpydoc.readthedocs.io/en/latest/format.html) (the numpy docstring conventions).\n",
        "\n",
        "For a lot of functions and classes this seems excessive (certainly is for `square`). But the numpy conventions are great when we want to communicate what our functions and classes do.\n",
        "\n",
        "### Write Doctests\n",
        "\n",
        "More importantly for us, though, we can use these docstrings to incorporate tests."
      ]
    },
    {
      "cell_type": "code",
      "execution_count": 9,
      "metadata": {},
      "outputs": [],
      "source": [
        "def square(x):\n",
        "    \"\"\"\n",
        "    Takes a number x and returns its square\n",
        "        \n",
        "    >>> square(5)\n",
        "    25\n",
        "    >>> square(5.0)\n",
        "    25.0\n",
        "    \"\"\"\n",
        "    return x*x"
      ]
    },
    {
      "cell_type": "markdown",
      "metadata": {},
      "source": [
        "The way you specify tests is my writing the code to be tested at a faake prompt \">>>\". Then a space and the code. For example `>>> square(5)`. then on the next line, the expected answer `25` all by itself. More details [here](https://docs.python.org/3/library/doctest.html).\n",
        "\n",
        "The advantage of this format is that you have now provided the user of your function some examples as well..and we all know that examples are the documentation that most people read. Infact, probably the only documentation\n",
        "\n",
        "You can test your function like so:"
      ]
    },
    {
      "cell_type": "code",
      "execution_count": 10,
      "metadata": {},
      "outputs": [],
      "source": [
        "import doctest\n",
        "doctest.run_docstring_examples(square, globals(), verbose=True)"
      ]
    },
    {
      "cell_type": "markdown",
      "metadata": {},
      "source": [
        "Lets mess up the implementation of square to see how it fails:"
      ]
    },
    {
      "cell_type": "code",
      "execution_count": 11,
      "metadata": {},
      "outputs": [],
      "source": [
        "def square(x):\n",
        "    \"\"\"\n",
        "    Takes a number x and returns its square\n",
        "        \n",
        "    >>> square(5)\n",
        "    25\n",
        "    >>> square(5.0)\n",
        "    25.0\n",
        "    \"\"\"\n",
        "    return x*x*x"
      ]
    },
    {
      "cell_type": "code",
      "execution_count": 12,
      "metadata": {},
      "outputs": [],
      "source": [
        "doctest.run_docstring_examples(square, globals(), verbose=True)"
      ]
    },
    {
      "cell_type": "markdown",
      "metadata": {},
      "source": [
        "You can see the failures since we implemented a cube instead of a square.\n",
        "\n",
        "### Tests in modules\n",
        "\n",
        "Usually when we want to test we'll put our tests in a file which represents are module. So lets do that for our vector class. We create a file `vector2.py` which now has tests in it.\n",
        "\n",
        "The tests we put in are just the examples we have been \"informally\" testing out vector class so far with!"
      ]
    },
    {
      "cell_type": "code",
      "execution_count": 13,
      "metadata": {},
      "outputs": [],
      "source": [
        "%pycat vector2.py"
      ]
    },
    {
      "cell_type": "markdown",
      "metadata": {},
      "source": [
        "The `if __name__ == \"__main__\":` section at the bottom will be run when you test. You test by going to the command line and doing `python vector2.py -v`. This is simulated in the notebook by putting a bang (!) before the command"
      ]
    },
    {
      "cell_type": "code",
      "execution_count": 14,
      "metadata": {},
      "outputs": [],
      "source": [
        "!python vector2.py -v"
      ]
    },
    {
      "cell_type": "markdown",
      "metadata": {},
      "source": [
        "You can see all our tests pass. You can also run these interactively in the jupyter notebook:"
      ]
    },
    {
      "cell_type": "raw",
      "metadata": {},
      "source": [
        "import vector2\n",
        "doctest.testmod(vector2, verbose=True)"
      ]
    },
    {
      "cell_type": "markdown",
      "metadata": {},
      "source": [
        "## Test Driven Programming\n",
        "\n",
        "So we wrote some code, and then tested it. Sometimes you might want to write the tests first, before you have done the development, to establish what your code should do.\n",
        "\n",
        "For instance, our addition seems to truncate the final vector, which for n-dimensional vector algebra, seems just wierd. If you are adding a smaller dimensional vector to a larger dimensional vector, it makes sense to \"embed\" the smaller dimensional vector into the space of the larger dimensional one. Thus we will want to pad the smaller vector with zeroes.\n",
        "\n",
        "We also want to support dot products. The python operator for dot products is `@`. (This is actually the operator for matrix multiplication, but as we shall see, dot products are a special case of matrix multiplication.) For 2 vectors, we compute the dot product by multiplying the vectors componentwise and then summing the multiplied pairs. We encounter the same dimensionality issue here as well, which we fix by padding with zeros.\n",
        "\n",
        "### Adding new tests\n",
        "\n",
        "So we add tests corresponding to these:\n",
        "\n",
        "```python\n",
        ">>> v1 = Vector([4, 2, 7])\n",
        ">>> v2 = Vector([1, -1, 3])\n",
        ">>> v1 + range(2)\n",
        "Vector([4, 3, 7])\n",
        ">>> range(2) + v1\n",
        "Vector([4, 3, 7])\n",
        ">>> \u03bb = 3\n",
        ">>> v1*\u03bb\n",
        "Vector([12, 6, 21])\n",
        ">>> \u03bb*v1\n",
        "Vector([12, 6, 21])\n",
        ">>> v1@v2\n",
        "23\n",
        ">>> v2@v1\n",
        "23\n",
        "```"
      ]
    },
    {
      "cell_type": "code",
      "execution_count": 15,
      "metadata": {},
      "outputs": [],
      "source": [
        "%pycat vector3.py"
      ]
    },
    {
      "cell_type": "markdown",
      "metadata": {},
      "source": [
        "Now we run our tests:"
      ]
    },
    {
      "cell_type": "code",
      "execution_count": 16,
      "metadata": {},
      "outputs": [],
      "source": [
        "import vector3\n",
        "doctest.testmod(vector3, verbose=True)"
      ]
    },
    {
      "cell_type": "markdown",
      "metadata": {},
      "source": [
        "What happened here? All the tests which have anything to do with adding lower dimensional sequences in failed. Also the dot product ones!\n",
        "\n",
        "### Add features to your code to fix the failed tests\n",
        "\n",
        "Lets write code to fix this! We first write a function that pads any two sequences to the longest sequence"
      ]
    },
    {
      "cell_type": "code",
      "execution_count": 11,
      "metadata": {},
      "outputs": [],
      "source": [
        "def pad_vectors(left, right):\n",
        "    maxlen = max(len(left), len(right))\n",
        "    outleft, outright = [], []\n",
        "    for i in range(maxlen):\n",
        "        if i > len(left) - 1:\n",
        "            leftval = 0\n",
        "        else:\n",
        "            leftval = left[i]\n",
        "        outleft.append(leftval)\n",
        "        if i > len(right) - 1:\n",
        "            rightval = 0\n",
        "        else:\n",
        "            rightval = right[i]\n",
        "        outright.append(rightval)\n",
        "    return outleft, outright"
      ]
    },
    {
      "cell_type": "code",
      "execution_count": 12,
      "metadata": {},
      "outputs": [],
      "source": [
        "pad_vectors(range(2), range(5,10))"
      ]
    },
    {
      "cell_type": "code",
      "execution_count": 13,
      "metadata": {},
      "outputs": [],
      "source": [
        "pad_vectors([1, 2, 3], range(10))"
      ]
    },
    {
      "cell_type": "markdown",
      "metadata": {},
      "source": [
        "We'll incorporate these examples as tests. Because we implemented the sequence protolcol for the vector class, we know this will work for vectors as well.\n",
        "\n",
        "```python\n",
        "def pad_vectors(left, right):\n",
        "    \"\"\"\n",
        "    pad sequence left or right with zeros to make\n",
        "    both sequences the length of the longest sequence\n",
        "\n",
        "    >>> pad_vectors(range(2), range(5,10))\n",
        "    ([0, 1, 0, 0, 0], [5, 6, 7, 8, 9])\n",
        "    >>> pad_vectors([1, 2, 3], range(10))\n",
        "    ([1, 2, 3, 0, 0, 0, 0, 0, 0, 0], [0, 1, 2, 3, 4, 5, 6, 7, 8, 9])\n",
        "    \"\"\"\n",
        "    ...\n",
        "```\n",
        "\n",
        "Now we can use this in addition and matrix multiplication to do the needful:\n",
        "\n",
        "```python\n",
        "def __add__(self, other_vector):\n",
        "        \"\"\"\n",
        "        Adding 2 vectors, pads to longest length\n",
        "        \"\"\"\n",
        "        try:\n",
        "            left, right = pad_vectors(self, other_vector)\n",
        "            return Vector([a + b for a, b in zip(left, right)])\n",
        "        except TypeError:\n",
        "            return NotImplemented\n",
        "```\n",
        "\n",
        "```python\n",
        "def __matmul__(self, other_vector): \n",
        "        try:\n",
        "            left, right = pad_vectors(self, other_vector)\n",
        "            return sum([a * b for a, b in zip(left, right)]) \n",
        "        except TypeError:\n",
        "            return NotImplemented \n",
        "```\n",
        "\n",
        "The entire code is here, below:"
      ]
    },
    {
      "cell_type": "code",
      "execution_count": 17,
      "metadata": {},
      "outputs": [],
      "source": [
        "%pycat vector4.py"
      ]
    },
    {
      "cell_type": "markdown",
      "metadata": {},
      "source": [
        "And running the tests give us:"
      ]
    },
    {
      "cell_type": "code",
      "execution_count": 18,
      "metadata": {},
      "outputs": [],
      "source": [
        "import vector4\n",
        "doctest.testmod(vector4, verbose=True)"
      ]
    },
    {
      "cell_type": "markdown",
      "metadata": {},
      "source": [
        "### Using the new class\n",
        "\n",
        "Using the new vector class is nice, but we still fail on translation:"
      ]
    },
    {
      "cell_type": "code",
      "execution_count": 17,
      "metadata": {},
      "outputs": [],
      "source": [
        "v1 = vector4.Vector([1,2,3])\n",
        "v1 + 5"
      ]
    },
    {
      "cell_type": "markdown",
      "metadata": {},
      "source": [
        "The natural thing to do here  is to add 5 to every component. This is called *broadcasting*, and we shall soon see how to use numpys *ndarray* to achieve this."
      ]
    }
  ]
}